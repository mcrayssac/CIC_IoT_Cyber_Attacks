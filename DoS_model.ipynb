{
 "cells": [
  {
   "cell_type": "markdown",
   "metadata": {},
   "source": [
    "# DoS ML Model"
   ]
  },
  {
   "cell_type": "markdown",
   "metadata": {},
   "source": [
    "## Importing Libraries"
   ]
  },
  {
   "cell_type": "code",
   "execution_count": 1,
   "metadata": {},
   "outputs": [],
   "source": [
    "import pandas as pd\n",
    "import numpy as np\n",
    "import os\n",
    "from tqdm import tqdm\n",
    "import warnings\n",
    "warnings.filterwarnings('ignore')\n",
    "from xgboost import XGBClassifier\n",
    "from catboost import CatBoostClassifier\n",
    "from lightgbm import LGBMClassifier\n",
    "from sklearn.neural_network import MLPClassifier\n",
    "from sklearn.linear_model import LogisticRegression, SGDClassifier, RidgeClassifier, PassiveAggressiveClassifier, Perceptron, RidgeClassifierCV\n",
    "from sklearn.tree import DecisionTreeClassifier\n",
    "from sklearn.ensemble import RandomForestClassifier, AdaBoostClassifier, GradientBoostingClassifier, ExtraTreesClassifier, BaggingClassifier, VotingClassifier, StackingClassifier, HistGradientBoostingClassifier\n",
    "from sklearn.metrics import accuracy_score, recall_score, precision_score, f1_score, confusion_matrix\n",
    "import joblib\n",
    "from sklearn.preprocessing import LabelEncoder\n",
    "from skopt import BayesSearchCV\n",
    "from sklearn.model_selection import StratifiedKFold\n",
    "import matplotlib.pyplot as plt\n",
    "import seaborn as sns\n",
    "from sklearn.preprocessing import MinMaxScaler, StandardScaler\n",
    "from imblearn.over_sampling import SMOTE"
   ]
  },
  {
   "cell_type": "markdown",
   "metadata": {},
   "source": [
    "## Preprocessing data for binary classification (DoS (DDoS and DoS) or Benign)"
   ]
  },
  {
   "cell_type": "code",
   "execution_count": 2,
   "metadata": {},
   "outputs": [],
   "source": [
    "from functions_ml import *\n",
    "\n",
    "train_sets, test_sets = get_train_and_test_files()\n",
    "\n",
    "X_columns = x_columns(read_csv_file(train_sets[0]))\n",
    "y_column = 'label'"
   ]
  },
  {
   "cell_type": "markdown",
   "metadata": {},
   "source": [
    "## Scaling"
   ]
  },
  {
   "cell_type": "code",
   "execution_count": 3,
   "metadata": {},
   "outputs": [
    {
     "name": "stderr",
     "output_type": "stream",
     "text": [
      "100%|██████████| 135/135 [01:46<00:00,  1.27it/s]\n"
     ]
    }
   ],
   "source": [
    "scaler = MinMaxScaler()\n",
    "\n",
    "for train_set in tqdm(train_sets):\n",
    "    scaler.fit(read_csv_file(train_set)[X_columns])"
   ]
  },
  {
   "cell_type": "markdown",
   "metadata": {},
   "source": [
    "## Dictionnary for spliting data"
   ]
  },
  {
   "cell_type": "code",
   "execution_count": 3,
   "metadata": {},
   "outputs": [],
   "source": [
    "dict_3_classes = {}\n",
    "dict_3_classes['DDoS-RSTFINFlood'] = 'DoS'\n",
    "dict_3_classes['DDoS-PSHACK_Flood'] = 'DoS'\n",
    "dict_3_classes['DDoS-SYN_Flood'] = 'DoS'\n",
    "dict_3_classes['DDoS-UDP_Flood'] = 'DoS'\n",
    "dict_3_classes['DDoS-TCP_Flood'] = 'DoS'\n",
    "dict_3_classes['DDoS-ICMP_Flood'] = 'DoS'\n",
    "dict_3_classes['DDoS-SynonymousIP_Flood'] = 'DoS'\n",
    "dict_3_classes['DDoS-ACK_Fragmentation'] = 'DoS'\n",
    "dict_3_classes['DDoS-UDP_Fragmentation'] = 'DoS'\n",
    "dict_3_classes['DDoS-ICMP_Fragmentation'] = 'DoS'\n",
    "dict_3_classes['DDoS-SlowLoris'] = 'DoS'\n",
    "dict_3_classes['DDoS-HTTP_Flood'] = 'DoS'\n",
    "dict_3_classes['DoS-UDP_Flood'] = 'DoS'\n",
    "dict_3_classes['DoS-SYN_Flood'] = 'DoS'\n",
    "dict_3_classes['DoS-TCP_Flood'] = 'DoS'\n",
    "dict_3_classes['DoS-HTTP_Flood'] = 'DoS'\n",
    "\n",
    "dict_3_classes['BenignTraffic'] = 'Benign'\n",
    "\n",
    "dict_3_classes['Mirai-greeth_flood'] = 'Other'\n",
    "dict_3_classes['Mirai-greip_flood'] = 'Other'\n",
    "dict_3_classes['Mirai-udpplain'] = 'Other'\n",
    "dict_3_classes['Recon-PingSweep'] = 'Other'\n",
    "dict_3_classes['Recon-OSScan'] = 'Other'\n",
    "dict_3_classes['Recon-PortScan'] = 'Other'\n",
    "dict_3_classes['VulnerabilityScan'] = 'Other'\n",
    "dict_3_classes['Recon-HostDiscovery'] = 'Other'\n",
    "dict_3_classes['DNS_Spoofing'] = 'Other'\n",
    "dict_3_classes['MITM-ArpSpoofing'] = 'Other'\n",
    "dict_3_classes['BrowserHijacking'] = 'Other'\n",
    "dict_3_classes['Backdoor_Malware'] = 'Other'\n",
    "dict_3_classes['XSS'] = 'Other'\n",
    "dict_3_classes['Uploading_Attack'] = 'Other'\n",
    "dict_3_classes['SqlInjection'] = 'Other'\n",
    "dict_3_classes['CommandInjection'] = 'Other'\n",
    "dict_3_classes['DictionaryBruteForce'] = 'Other'"
   ]
  },
  {
   "cell_type": "code",
   "execution_count": 4,
   "metadata": {},
   "outputs": [],
   "source": [
    "file_path = DATASET_DIRECTORY + 'DoS\\\\'"
   ]
  },
  {
   "cell_type": "code",
   "execution_count": 5,
   "metadata": {},
   "outputs": [
    {
     "name": "stderr",
     "output_type": "stream",
     "text": [
      "100%|██████████| 134/134 [19:25<00:00,  8.70s/it]\n"
     ]
    }
   ],
   "source": [
    "refactor_dataframe(train_sets, dict_3_classes, scaler, file_path, X_columns, y_column)"
   ]
  },
  {
   "cell_type": "code",
   "execution_count": 6,
   "metadata": {},
   "outputs": [
    {
     "name": "stdout",
     "output_type": "stream",
     "text": [
      "['dataset0.csv', 'dataset1.csv', 'dataset10.csv', 'dataset11.csv', 'dataset12.csv', 'dataset13.csv', 'dataset14.csv', 'dataset15.csv', 'dataset16.csv', 'dataset17.csv', 'dataset18.csv', 'dataset19.csv', 'dataset2.csv', 'dataset20.csv', 'dataset21.csv', 'dataset22.csv', 'dataset23.csv', 'dataset24.csv', 'dataset25.csv', 'dataset26.csv', 'dataset27.csv', 'dataset28.csv', 'dataset29.csv', 'dataset3.csv', 'dataset30.csv', 'dataset31.csv', 'dataset32.csv', 'dataset33.csv', 'dataset34.csv', 'dataset35.csv', 'dataset36.csv', 'dataset37.csv', 'dataset38.csv', 'dataset39.csv', 'dataset4.csv', 'dataset40.csv', 'dataset41.csv', 'dataset42.csv', 'dataset43.csv', 'dataset44.csv', 'dataset45.csv', 'dataset46.csv', 'dataset47.csv', 'dataset48.csv', 'dataset49.csv', 'dataset5.csv', 'dataset50.csv', 'dataset51.csv', 'dataset52.csv', 'dataset53.csv', 'dataset54.csv', 'dataset55.csv', 'dataset56.csv', 'dataset57.csv', 'dataset58.csv', 'dataset59.csv', 'dataset6.csv', 'dataset60.csv', 'dataset61.csv', 'dataset62.csv', 'dataset63.csv', 'dataset64.csv', 'dataset65.csv', 'dataset66.csv', 'dataset67.csv', 'dataset68.csv', 'dataset69.csv', 'dataset7.csv', 'dataset70.csv', 'dataset71.csv', 'dataset72.csv', 'dataset73.csv', 'dataset8.csv', 'dataset9.csv']\n"
     ]
    }
   ],
   "source": [
    "print(get_all_datasets_and_sort(file_path))\n",
    "\n",
    "#TODO:\n",
    "# Load each datasets\n",
    "# Add all count 'label'"
   ]
  },
  {
   "cell_type": "code",
   "execution_count": 6,
   "metadata": {},
   "outputs": [
    {
     "name": "stdout",
     "output_type": "stream",
     "text": [
      "DoS       219789\n",
      "Benign      5738\n",
      "Name: label, dtype: int64\n"
     ]
    },
    {
     "data": {
      "image/png": "[encoded data removed]",
      "text/plain": [
       "<Figure size 1500x800 with 1 Axes>"
      ]
     },
     "metadata": {},
     "output_type": "display_data"
    }
   ],
   "source": [
    "df = pd.read_csv(file_path + 'dataset.csv')\n",
    "categorie_counts = df['label'].value_counts()\n",
    "categorie_counts = categorie_counts.sort_values(ascending=False)\n",
    "\n",
    "plt.figure(figsize=(15, 8))\n",
    "print(categorie_counts)\n",
    "\n",
    "plt.bar(categorie_counts.index, categorie_counts.values)\n",
    "log_scale = False\n",
    "if log_scale:\n",
    "    plt.yscale('log')  # Utilisez une échelle logarithmique sur l'axe des y\n",
    "plt.xlabel('Catégorie')\n",
    "if log_scale:\n",
    "    plt.ylabel('Nombre d\\'occurrences (échelle logarithmique)')\n",
    "else:\n",
    "    plt.ylabel('Nombre d\\'occurrences (échelle non logarithmique)')\n",
    "plt.title(f'Occurrences de catégories combinées dans toutes les colonnes')\n",
    "plt.xticks(rotation=90)\n",
    "plt.tight_layout()\n",
    "plt.show()"
   ]
  },
  {
   "cell_type": "markdown",
   "metadata": {},
   "source": [
    "## Tests"
   ]
  },
  {
   "cell_type": "code",
   "execution_count": null,
   "metadata": {},
   "outputs": [],
   "source": [
    "# simpleModelsDef = [\n",
    "#     {\n",
    "#         \"Name\": \"DT\",\n",
    "#         \"Model\": DecisionTreeClassifier(random_state = 42)\n",
    "#     },\n",
    "#     {\n",
    "#         \"Name\": \"RF\",\n",
    "#         \"Model\": RandomForestClassifier(random_state = 42)\n",
    "#     },\n",
    "#     {\n",
    "#         \"Name\": \"XGB\",\n",
    "#         \"Model\": XGBClassifier(random_state = 42)\n",
    "#     },\n",
    "# ]\n",
    "\n",
    "# {\n",
    "#         \"Name\": \"Voting\",\n",
    "#         \"Model\": VotingClassifier([\n",
    "#             ('XGBClassifier', joblib.load('.\\\\Models\\\\TUNING\\\\model_XGB.joblib')),\n",
    "#             ('DecisionTreeClassifier', joblib.load('.\\\\Models\\\\TUNING\\\\model_DT.joblib')),\n",
    "#             ('RandomForestClassifier', joblib.load('.\\\\Models\\\\TUNING\\\\model_RF.joblib')),\n",
    "#             ],\n",
    "#             voting='soft')\n",
    "# }"
   ]
  },
  {
   "cell_type": "code",
   "execution_count": 8,
   "metadata": {},
   "outputs": [
    {
     "data": {
      "text/plain": [
       "3721"
      ]
     },
     "execution_count": 8,
     "metadata": {},
     "output_type": "execute_result"
    }
   ],
   "source": [
    "import gc\n",
    "gc.collect()"
   ]
  }
 ],
 "metadata": {
  "kernelspec": {
   "display_name": "Python 3",
   "language": "python",
   "name": "python3"
  },
  "language_info": {
   "codemirror_mode": {
    "name": "ipython",
    "version": 3
   },
   "file_extension": ".py",
   "mimetype": "text/x-python",
   "name": "python",
   "nbconvert_exporter": "python",
   "pygments_lexer": "ipython3",
   "version": "3.9.12"
  }
 },
 "nbformat": 4,
 "nbformat_minor": 2
}
