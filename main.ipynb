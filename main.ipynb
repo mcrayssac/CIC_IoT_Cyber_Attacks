{
 "cells": [
  {
   "cell_type": "code",
   "execution_count": 3,
   "metadata": {},
   "outputs": [],
   "source": [
    "import pandas as pd\n",
    "import numpy as np\n",
    "import matplotlib.pyplot as plt"
   ]
  },
  {
   "cell_type": "markdown",
   "metadata": {},
   "source": [
    "# Canadian Institute for Cybersecurity Internet of Things Dataset 2023\n",
    "\n",
    "### Real-time dataset and benchmark for large-scale attacks in IoT environment\n",
    "\n",
    "- L’objectif principal de cette recherche est de proposer un ensemble de données novateur et étendu sur les attaques IoT afin de favoriser le développement d’applications d’analyse de sécurité dans des opérations IoT réelles. Pour ce faire, 33 attaques sont exécutées dans une topologie IoT composée de 105 appareils.\n",
    "\n",
    "- Ces attaques sont classées en sept catégories, à savoir DDoS, DoS, Recon, Web-based, Brute Force, Spoofing et Mirai. Enfin, toutes les attaques sont exécutées par des appareils IoT malveillants ciblant d’autres appareils IoT.\n",
    "\n",
    "- Le réseau mis en place par l'institut est décrit si dessous :\n",
    "\n",
    "![Alt text](image.png)\n",
    "\n"
   ]
  },
  {
   "cell_type": "code",
   "execution_count": null,
   "metadata": {},
   "outputs": [],
   "source": []
  }
 ],
 "metadata": {
  "kernelspec": {
   "display_name": "Python 3",
   "language": "python",
   "name": "python3"
  },
  "language_info": {
   "codemirror_mode": {
    "name": "ipython",
    "version": 3
   },
   "file_extension": ".py",
   "mimetype": "text/x-python",
   "name": "python",
   "nbconvert_exporter": "python",
   "pygments_lexer": "ipython3",
   "version": "3.9.12"
  },
  "orig_nbformat": 4
 },
 "nbformat": 4,
 "nbformat_minor": 2
}
