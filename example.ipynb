{
 "cells": [
  {
   "cell_type": "markdown",
   "id": "fb6a6862-9ab9-47c7-b5da-0bc772897129",
   "metadata": {},
   "source": [
    "# Training a ML model using CICIoT2023\n",
    "\n",
    "This notebook shows how a LogisticRegression model can be trained using the CICIoT2023 csv files."
   ]
  },
  {
   "cell_type": "code",
   "execution_count": 1,
   "id": "40f7c50d-b0ae-4f19-9398-1435ba7a851d",
   "metadata": {
    "notebookRunGroups": {
     "groupValue": "1"
    }
   },
   "outputs": [],
   "source": [
    "import pandas as pd\n",
    "import numpy as np\n",
    "import os\n",
    "from tqdm import tqdm\n",
    "import warnings\n",
    "warnings.filterwarnings('ignore')\n",
    "from xgboost import XGBClassifier\n",
    "from catboost import CatBoostClassifier\n",
    "from lightgbm import LGBMClassifier\n",
    "from sklearn.neural_network import MLPClassifier\n",
    "from sklearn.linear_model import LogisticRegression, SGDClassifier, RidgeClassifier, PassiveAggressiveClassifier, Perceptron, RidgeClassifierCV\n",
    "from sklearn.tree import DecisionTreeClassifier\n",
    "from sklearn.ensemble import RandomForestClassifier, AdaBoostClassifier, GradientBoostingClassifier, ExtraTreesClassifier, BaggingClassifier, VotingClassifier, StackingClassifier, HistGradientBoostingClassifier\n",
    "from sklearn.metrics import accuracy_score, recall_score, precision_score, f1_score, confusion_matrix\n",
    "import joblib\n",
    "from sklearn.preprocessing import LabelEncoder\n",
    "from skopt import BayesSearchCV\n",
    "from sklearn.model_selection import StratifiedKFold\n",
    "import matplotlib.pyplot as plt\n",
    "import seaborn as sns\n",
    "from sklearn.preprocessing import MinMaxScaler, StandardScaler\n",
    "from imblearn.over_sampling import SMOTE"
   ]
  },
  {
   "cell_type": "code",
   "execution_count": 2,
   "id": "5c40b5d2-727b-4f37-a480-9d46304eb541",
   "metadata": {
    "notebookRunGroups": {
     "groupValue": "1"
    }
   },
   "outputs": [],
   "source": [
    "DATASET_DIRECTORY = \".\\Files\\\\\""
   ]
  },
  {
   "cell_type": "markdown",
   "id": "3ec1f2b2-92b3-4622-895b-6ac5126f30b4",
   "metadata": {},
   "source": [
    "### Importing Dataset"
   ]
  },
  {
   "cell_type": "code",
   "execution_count": 3,
   "id": "6854f877-5524-46ba-b7ca-5d6040015f44",
   "metadata": {
    "notebookRunGroups": {
     "groupValue": "1"
    }
   },
   "outputs": [],
   "source": [
    "df_sets = [k for k in os.listdir(DATASET_DIRECTORY) if k.endswith('.csv')]\n",
    "df_sets.sort()\n",
    "# print(df_sets[0:10])\n",
    "\n",
    "# Only use the first 10 datasets\n",
    "# df_sets = df_sets[0:10]\n",
    "\n",
    "training_sets = df_sets[:int(len(df_sets)*.8)]\n",
    "test_sets = df_sets[int(len(df_sets)*.8):]"
   ]
  },
  {
   "cell_type": "code",
   "execution_count": 4,
   "id": "0433838d-ca57-4dd8-b41c-ad2ee3df61c4",
   "metadata": {
    "notebookRunGroups": {
     "groupValue": "1"
    }
   },
   "outputs": [],
   "source": [
    "X_columns = [\n",
    "    'flow_duration', 'Header_Length', 'Protocol Type', 'Duration',\n",
    "       'Rate', 'Srate', 'Drate', 'fin_flag_number', 'syn_flag_number',\n",
    "       'rst_flag_number', 'psh_flag_number', 'ack_flag_number',\n",
    "       'ece_flag_number', 'cwr_flag_number', 'ack_count',\n",
    "       'syn_count', 'fin_count', 'urg_count', 'rst_count', \n",
    "    'HTTP', 'HTTPS', 'DNS', 'Telnet', 'SMTP', 'SSH', 'IRC', 'TCP',\n",
    "       'UDP', 'DHCP', 'ARP', 'ICMP', 'IPv', 'LLC', 'Tot sum', 'Min',\n",
    "       'Max', 'AVG', 'Std', 'Tot size', 'IAT', 'Number', 'Magnitue',\n",
    "       'Radius', 'Covariance', 'Variance', 'Weight', \n",
    "]\n",
    "y_column = 'label'"
   ]
  },
  {
   "cell_type": "markdown",
   "id": "249673a6-4826-4b80-b9aa-dfa4c3d549c4",
   "metadata": {},
   "source": [
    "### Scaling"
   ]
  },
  {
   "cell_type": "code",
   "execution_count": 5,
   "id": "3682559f-9eb3-4d35-b1b2-d7d501ab85bc",
   "metadata": {
    "notebookRunGroups": {
     "groupValue": "1"
    }
   },
   "outputs": [
    {
     "name": "stderr",
     "output_type": "stream",
     "text": [
      "100%|██████████| 135/135 [01:39<00:00,  1.35it/s]\n"
     ]
    }
   ],
   "source": [
    "scaler = StandardScaler()\n",
    "\n",
    "for train_set in tqdm(training_sets):\n",
    "    scaler.fit(pd.read_csv(DATASET_DIRECTORY + train_set)[X_columns])"
   ]
  },
  {
   "cell_type": "markdown",
   "id": "8a95c146",
   "metadata": {},
   "source": [
    "## Performance Evaluation"
   ]
  },
  {
   "cell_type": "markdown",
   "id": "d1ef4680",
   "metadata": {},
   "source": [
    "### False positive and false negative function"
   ]
  },
  {
   "cell_type": "code",
   "execution_count": 6,
   "id": "91c9429e",
   "metadata": {},
   "outputs": [],
   "source": [
    "def calculate_false_positives_and_false_negatives_multiclass_auto(y_true, y_pred):\n",
    "    \"\"\"\n",
    "    Calcule les faux positifs (FP) et les faux négatifs (FN) pour chaque classe dans une classification multiclasse.\n",
    "\n",
    "    Args:\n",
    "    - y_true (array-like): Les vraies étiquettes.\n",
    "    - y_pred (array-like): Les prédictions du modèle.\n",
    "\n",
    "    Returns:\n",
    "    - fp_dict (dict): Un dictionnaire contenant les faux positifs par classe.\n",
    "    - fn_dict (dict): Un dictionnaire contenant les faux négatifs par classe.\n",
    "    - labels (list): La liste des étiquettes uniques de classe.\n",
    "    \"\"\"\n",
    "\n",
    "    # print(y_true[:5])\n",
    "    # print(y_pred[:5])\n",
    "    if y_pred.ndim != 1:\n",
    "        tableau_1d = y_pred.flatten()\n",
    "\n",
    "        # Ou utilisez numpy.ravel()\n",
    "        y_pred = np.ravel(tableau_1d)\n",
    "\n",
    "\n",
    "    labels = np.unique(np.concatenate([y_true, y_pred]))\n",
    "    # Créez un dictionnaire pour mapper les étiquettes aux indices entiers\n",
    "    label_to_index = {label: index for index, label in enumerate(labels)}\n",
    "    \n",
    "    fp_dict = {}\n",
    "    fn_dict = {}\n",
    "    i = 1\n",
    "\n",
    "    for label in tqdm(labels):\n",
    "        # Mapper l'étiquette à l'indice entier\n",
    "        label_index = label_to_index[label]\n",
    "\n",
    "        # Créez une matrice de confusion pour la classe actuelle\n",
    "        cm = confusion_matrix(y_true, y_pred, labels=labels)\n",
    "        \n",
    "        # Extrayez les valeurs de faux positifs et de faux négatifs pour la classe actuelle\n",
    "        fn = sum(cm[i:, label_index])\n",
    "        temp = cm[label_index, :]\n",
    "        fp = sum(temp[i:])\n",
    "        \n",
    "        fp_dict[label] = fp\n",
    "        fn_dict[label] = fn\n",
    "\n",
    "        i += 1\n",
    "\n",
    "    # # Plot the confusion matrix as a heatmap\n",
    "    # cm = confusion_matrix(y_true, y_pred, labels=labels)\n",
    "    # # Normalize the confusion matrix\n",
    "    # cm = np.round(cm.astype('float') / cm.sum(axis=1)[:, np.newaxis], 2)\n",
    "    # plt.figure(figsize=(30, 22))\n",
    "    # sns.heatmap(cm, annot=True, fmt='.2f', cmap='Blues', annot_kws={\"size\": 16})\n",
    "    # plt.xlabel('Predicted Labels')\n",
    "    # plt.ylabel('True Labels')\n",
    "    # plt.title('Confusion Matrix')\n",
    "    # plt.show()\n",
    "\n",
    "    data_fp = {\n",
    "        'Category': list(fp_dict.keys()),\n",
    "        'Count': list(fp_dict.values())\n",
    "    }\n",
    "    df_fp = pd.DataFrame(data_fp)\n",
    "    df_fp.sort_values(by=['Count'], inplace=True, ascending=False)\n",
    "\n",
    "    # print(df_fp.head(20))\n",
    "    fp = df_fp['Count'].sum()\n",
    "\n",
    "    data_fn = {\n",
    "        'Category': list(fn_dict.keys()),\n",
    "        'Count': list(fn_dict.values())\n",
    "    }\n",
    "    df_fn = pd.DataFrame(data_fn)\n",
    "    df_fn.sort_values(by=['Count'], inplace=True, ascending=False)\n",
    "\n",
    "    # print(df_fn.head(20))\n",
    "    fn = df_fn['Count'].sum()\n",
    "\n",
    "    return fp, fn"
   ]
  },
  {
   "cell_type": "markdown",
   "id": "9887f489",
   "metadata": {},
   "source": [
    "### Define models and dataframe"
   ]
  },
  {
   "cell_type": "code",
   "execution_count": 11,
   "id": "bf79d19a",
   "metadata": {},
   "outputs": [],
   "source": [
    "# Define the performance dataFrame\n",
    "simplePerformance = pd.DataFrame(columns=['Accuracy Training', 'Recall Training', 'Precision Training', 'F1 Training', 'Accuracy Testing', 'Recall Testing', 'Precision Testing', 'F1 Testing', 'FP_rate', 'FN_rate', 'FP', 'FN', 'Total'])\n",
    "complexPerformance = pd.DataFrame(columns=['Accuracy Training', 'Recall Training', 'Precision Training', 'F1 Training', 'Accuracy Testing', 'Recall Testing', 'Precision Testing', 'F1 Testing', 'FP_rate', 'FN_rate', 'FP', 'FN', 'Total'])\n",
    "\n",
    "# Define disctionnairy of correspondant models\n",
    "simpleModelsDitionnary = [\n",
    "    {\n",
    "        \"Name\": \"DT\",\n",
    "        \"Model\": DecisionTreeClassifier(random_state = 42)\n",
    "    },\n",
    "    {\n",
    "        \"Name\": \"RF\",\n",
    "        \"Model\": RandomForestClassifier(random_state = 42)\n",
    "    },\n",
    "    {\n",
    "        \"Name\": \"ET\",\n",
    "        \"Model\": ExtraTreesClassifier(random_state = 42)\n",
    "    },\n",
    "    {\n",
    "        \"Name\": \"XGB\",\n",
    "        \"Model\": XGBClassifier(random_state = 42)\n",
    "    },\n",
    "    # {\n",
    "    #     \"Name\": \"Cat\",\n",
    "    #     \"Model\": CatBoostClassifier(random_state = 42, loss_function = 'MultiClass', verbose = 0, boosting_type = 'Plain')\n",
    "    # },\n",
    "    # {\n",
    "    #     \"Name\": \"LIGHT\",\n",
    "    #     \"Model\": LGBMClassifier(random_state = 42)\n",
    "    # },\n",
    "    # {\n",
    "    #     \"Name\": \"GBoost\",\n",
    "    #     \"Model\": GradientBoostingClassifier(random_state = 42)\n",
    "    # },\n",
    "    # {\n",
    "    #     \"Name\": \"Adaboost\",\n",
    "    #     \"Model\": AdaBoostClassifier(random_state = 42)\n",
    "    # },\n",
    "    # {\n",
    "    #     \"Name\": \"MLP\",\n",
    "    #     \"Model\": MLPClassifier(hidden_layer_sizes = (100,20), max_iter = 300, activation = 'relu', solver = 'adam', random_state = 42)\n",
    "    # },\n",
    "    # {\n",
    "    #     \"Name\": \"HistGradientBoosting\",\n",
    "    #     \"Model\": HistGradientBoostingClassifier()\n",
    "    # },\n",
    "]\n",
    "\n",
    "complexModelsDitionnary = [\n",
    "    {\n",
    "        \"Name\": \"Voting\",\n",
    "        \"Model\": VotingClassifier([\n",
    "            ('XGBClassifier', joblib.load('.\\\\Models\\\\TUNING\\\\model_XGB.joblib')),\n",
    "            ('DecisionTreeClassifier', joblib.load('.\\\\Models\\\\TUNING\\\\model_DT.joblib')),\n",
    "            ('RandomForestClassifier', joblib.load('.\\\\Models\\\\TUNING\\\\model_RF.joblib')),\n",
    "            ],\n",
    "            voting='soft')\n",
    "    },\n",
    "    {\n",
    "        \"Name\": \"Bagging\",\n",
    "        \"Model\": BaggingClassifier(base_estimator=joblib.load('.\\\\Models\\\\TUNING\\\\model_XGB.joblib'), n_estimators=15)\n",
    "    },\n",
    "    {\n",
    "        \"Name\": \"Stacking\",\n",
    "        \"Model\": StackingClassifier([\n",
    "            ('DecisionTreeClassifier', joblib.load('.\\\\Models\\\\TUNING\\\\model_DT.joblib')),\n",
    "            ('RandomForestClassifier', joblib.load('.\\\\Models\\\\TUNING\\\\model_RF.joblib')),\n",
    "            ],\n",
    "            final_estimator=joblib.load('.\\\\Models\\\\TUNING\\\\model_XGB.joblib'),\n",
    "            cv=5)\n",
    "    },\n",
    "]"
   ]
  },
  {
   "cell_type": "markdown",
   "id": "24cc1dcb",
   "metadata": {},
   "source": [
    "### Functions for performance "
   ]
  },
  {
   "cell_type": "code",
   "execution_count": 7,
   "id": "ca942aca",
   "metadata": {},
   "outputs": [],
   "source": [
    "def singlePerformance(model, X_test, y_test):\n",
    "    \n",
    "    y_pred = model.predict(X_test)\n",
    "\n",
    "    fp, fn = calculate_false_positives_and_false_negatives_multiclass_auto(y_test, y_pred)\n",
    "\n",
    "    return accuracy_score(y_test, y_pred), recall_score(y_test, y_pred, average='macro'), precision_score(y_test, y_pred, average='macro'), f1_score(y_test, y_pred, average='macro'), fp, fn\n",
    "\n",
    "def mainPerformance(models, df):\n",
    "    label_encoder = LabelEncoder()\n",
    "    # smote = SMOTE(random_state=42)\n",
    "\n",
    "    for model in tqdm(models):\n",
    "        # Load the train set\n",
    "        X_train = pd.read_csv(DATASET_DIRECTORY + training_sets[0])[X_columns]\n",
    "        y_train = pd.read_csv(DATASET_DIRECTORY + training_sets[0])[y_column]\n",
    "\n",
    "        # Scale the train set\n",
    "        X_train = scaler.transform(X_train)\n",
    "        y_train_encoded = label_encoder.fit_transform(y_train)\n",
    "\n",
    "        # Resample the train set\n",
    "        # X_train_resampled, y_train_resampled = smote.fit_resample(X_train, y_train_encoded)\n",
    "\n",
    "        # Fit the model\n",
    "        model[\"Model\"].fit(X_train, y_train_encoded)\n",
    "        y_pred_train = model[\"Model\"].predict(X_train)\n",
    "\n",
    "        # Load the test set\n",
    "        X_test = pd.read_csv(DATASET_DIRECTORY + test_sets[0])[X_columns]\n",
    "        y_test = pd.read_csv(DATASET_DIRECTORY + test_sets[0])[y_column]\n",
    "\n",
    "        # Scale the test set\n",
    "        X_test = scaler.transform(X_test)\n",
    "        y_test_encoded = label_encoder.transform(y_test)\n",
    "\n",
    "        # Resample the test set\n",
    "        # X_test_resampled, y_test_resampled = smote.fit_resample(X_test, y_test_encoded)\n",
    "\n",
    "        # Get the performance\n",
    "        accuracy_train, recall_train, precision_train, f1_train = accuracy_score(y_train_encoded, y_pred_train), recall_score(y_train_encoded, y_pred_train, average='macro'), precision_score(y_train_encoded, y_pred_train, average='macro'), f1_score(y_train_encoded, y_pred_train, average='macro')\n",
    "        accuracy_testing, recall_testing, precision_testing, f1_testing, fp, fn = singlePerformance(model[\"Model\"], X_test, y_test_encoded)\n",
    "        df.loc[model[\"Name\"]] = [accuracy_train, recall_train, precision_train, f1_train, accuracy_testing, recall_testing, precision_testing, f1_testing, fp/len(y_test_encoded), fn/len(y_test_encoded), fp, fn, len(y_test_encoded)]\n",
    "        # performance.loc[model[\"Name\"]] = [accuracy, recall, precision, f1, fp, fn, len(y_test_encoded)]\n",
    "        # performance = {'Accuracy': accuracy, 'Recall': recall, 'Precision': precision, 'F1': f1, 'FP': fp, 'FN': fn, 'Total': len(y_test)}\n",
    "\n",
    "        # Save model\n",
    "        joblib.dump(model[\"Model\"], f\".\\\\Models\\\\PERFORMANCE\\\\tuning_simple_model_{model['Name']}.joblib\")\n",
    "\n",
    "    return"
   ]
  },
  {
   "cell_type": "markdown",
   "id": "193688fd",
   "metadata": {},
   "source": [
    "### Launch"
   ]
  },
  {
   "cell_type": "code",
   "execution_count": 13,
   "id": "e724d114",
   "metadata": {},
   "outputs": [],
   "source": [
    "simplePerformance = pd.DataFrame(columns=['Accuracy Training', 'Recall Training', 'Precision Training', 'F1 Training', 'Accuracy Testing', 'Recall Testing', 'Precision Testing', 'F1 Testing', 'FP_rate', 'FN_rate', 'FP', 'FN', 'Total'])\n",
    "# simplePerformance.to_csv('.\\\\Models\\\\PERFORMANCE\\\\smote_simplePerformance.csv')\n",
    "\n",
    "complexPerformance = pd.DataFrame(columns=['Accuracy Training', 'Recall Training', 'Precision Training', 'F1 Training', 'Accuracy Testing', 'Recall Testing', 'Precision Testing', 'F1 Testing', 'FP_rate', 'FN_rate', 'FP', 'FN', 'Total'])\n",
    "complexPerformance.to_csv('.\\\\Models\\\\PERFORMANCE\\\\tuning_simple_complexPerformance.csv')"
   ]
  },
  {
   "cell_type": "code",
   "execution_count": 16,
   "id": "03ab943b",
   "metadata": {},
   "outputs": [
    {
     "name": "stderr",
     "output_type": "stream",
     "text": [
      "100%|██████████| 34/34 [00:00<00:00, 76.85it/s]\n",
      "100%|██████████| 34/34 [00:00<00:00, 80.07it/s]\n",
      "100%|██████████| 34/34 [00:00<00:00, 77.45it/s]\n",
      "100%|██████████| 3/3 [59:27<00:00, 1189.20s/it]"
     ]
    },
    {
     "name": "stdout",
     "output_type": "stream",
     "text": [
      "          Accuracy Training  Recall Training  Precision Training  F1 Training  \\\n",
      "Voting             0.999116         0.982762            0.998932     0.990372   \n",
      "Bagging            0.999723         0.995741            0.998328     0.997001   \n",
      "Stacking           0.997340         0.894030            0.984772     0.927305   \n",
      "\n",
      "          Accuracy Testing  Recall Testing  Precision Testing  F1 Testing  \\\n",
      "Voting            0.994574        0.850900           0.953960    0.882017   \n",
      "Bagging           0.994498        0.850220           0.943463    0.883143   \n",
      "Stacking          0.993846        0.846887           0.943662    0.876578   \n",
      "\n",
      "           FP_rate   FN_rate     FP     FN     Total  \n",
      "Voting    0.001689  0.003737  404.0  894.0  239203.0  \n",
      "Bagging   0.001568  0.003934  375.0  941.0  239203.0  \n",
      "Stacking  0.002270  0.003884  543.0  929.0  239203.0  \n"
     ]
    },
    {
     "name": "stderr",
     "output_type": "stream",
     "text": [
      "\n"
     ]
    }
   ],
   "source": [
    "# simplePerformance = pd.read_csv('.\\\\Models\\\\PERFORMANCE\\\\smote_simplePerformance.csv', index_col=0)\n",
    "# mainPerformance(simpleModelsDitionnary, simplePerformance)\n",
    "# simplePerformance.to_csv('.\\\\Models\\\\PERFORMANCE\\\\smote_simplePerformance.csv') \n",
    "# print(simplePerformance.head(20))\n",
    "\n",
    "complexPerformance = pd.read_csv('.\\\\Models\\\\PERFORMANCE\\\\tuning_simple_complexPerformance.csv', index_col=0)\n",
    "mainPerformance(complexModelsDitionnary, complexPerformance)\n",
    "complexPerformance.to_csv('.\\\\Models\\\\PERFORMANCE\\\\tuning_simple_complexPerformance.csv') \n",
    "print(complexPerformance.head(20))"
   ]
  },
  {
   "cell_type": "markdown",
   "id": "9926fa0d",
   "metadata": {},
   "source": [
    "### SMOTE Simple performance results"
   ]
  },
  {
   "cell_type": "code",
   "execution_count": 11,
   "id": "54c2e92f",
   "metadata": {},
   "outputs": [
    {
     "data": {
      "text/html": [
       "<div>\n",
       "<style scoped>\n",
       "    .dataframe tbody tr th:only-of-type {\n",
       "        vertical-align: middle;\n",
       "    }\n",
       "\n",
       "    .dataframe tbody tr th {\n",
       "        vertical-align: top;\n",
       "    }\n",
       "\n",
       "    .dataframe thead th {\n",
       "        text-align: right;\n",
       "    }\n",
       "</style>\n",
       "<table border=\"1\" class=\"dataframe\">\n",
       "  <thead>\n",
       "    <tr style=\"text-align: right;\">\n",
       "      <th></th>\n",
       "      <th>Unnamed: 0</th>\n",
       "      <th>Accuracy Training</th>\n",
       "      <th>Recall Training</th>\n",
       "      <th>Precision Training</th>\n",
       "      <th>F1 Training</th>\n",
       "      <th>Accuracy Testing</th>\n",
       "      <th>Recall Testing</th>\n",
       "      <th>Precision Testing</th>\n",
       "      <th>F1 Testing</th>\n",
       "      <th>FP_rate</th>\n",
       "      <th>FN_rate</th>\n",
       "      <th>FP</th>\n",
       "      <th>FN</th>\n",
       "      <th>Total</th>\n",
       "    </tr>\n",
       "  </thead>\n",
       "  <tbody>\n",
       "    <tr>\n",
       "      <th>3</th>\n",
       "      <td>XGB</td>\n",
       "      <td>0.998004</td>\n",
       "      <td>0.998004</td>\n",
       "      <td>0.998008</td>\n",
       "      <td>0.998004</td>\n",
       "      <td>0.861337</td>\n",
       "      <td>0.861337</td>\n",
       "      <td>0.868364</td>\n",
       "      <td>0.855284</td>\n",
       "      <td>0.054461</td>\n",
       "      <td>0.084202</td>\n",
       "      <td>68401.0</td>\n",
       "      <td>105754.0</td>\n",
       "      <td>1255960.0</td>\n",
       "    </tr>\n",
       "    <tr>\n",
       "      <th>0</th>\n",
       "      <td>DT</td>\n",
       "      <td>1.000000</td>\n",
       "      <td>1.000000</td>\n",
       "      <td>1.000000</td>\n",
       "      <td>1.000000</td>\n",
       "      <td>0.834334</td>\n",
       "      <td>0.834334</td>\n",
       "      <td>0.840566</td>\n",
       "      <td>0.828526</td>\n",
       "      <td>0.071863</td>\n",
       "      <td>0.093803</td>\n",
       "      <td>90257.0</td>\n",
       "      <td>117813.0</td>\n",
       "      <td>1255960.0</td>\n",
       "    </tr>\n",
       "    <tr>\n",
       "      <th>1</th>\n",
       "      <td>RF</td>\n",
       "      <td>1.000000</td>\n",
       "      <td>1.000000</td>\n",
       "      <td>1.000000</td>\n",
       "      <td>1.000000</td>\n",
       "      <td>0.773429</td>\n",
       "      <td>0.773429</td>\n",
       "      <td>0.785923</td>\n",
       "      <td>0.756127</td>\n",
       "      <td>0.092519</td>\n",
       "      <td>0.134052</td>\n",
       "      <td>116200.0</td>\n",
       "      <td>168364.0</td>\n",
       "      <td>1255960.0</td>\n",
       "    </tr>\n",
       "    <tr>\n",
       "      <th>2</th>\n",
       "      <td>ET</td>\n",
       "      <td>1.000000</td>\n",
       "      <td>1.000000</td>\n",
       "      <td>1.000000</td>\n",
       "      <td>1.000000</td>\n",
       "      <td>0.724728</td>\n",
       "      <td>0.724728</td>\n",
       "      <td>0.730320</td>\n",
       "      <td>0.706449</td>\n",
       "      <td>0.103053</td>\n",
       "      <td>0.172219</td>\n",
       "      <td>129431.0</td>\n",
       "      <td>216300.0</td>\n",
       "      <td>1255960.0</td>\n",
       "    </tr>\n",
       "  </tbody>\n",
       "</table>\n",
       "</div>"
      ],
      "text/plain": [
       "  Unnamed: 0  Accuracy Training  Recall Training  Precision Training  \\\n",
       "3        XGB           0.998004         0.998004            0.998008   \n",
       "0         DT           1.000000         1.000000            1.000000   \n",
       "1         RF           1.000000         1.000000            1.000000   \n",
       "2         ET           1.000000         1.000000            1.000000   \n",
       "\n",
       "   F1 Training  Accuracy Testing  Recall Testing  Precision Testing  \\\n",
       "3     0.998004          0.861337        0.861337           0.868364   \n",
       "0     1.000000          0.834334        0.834334           0.840566   \n",
       "1     1.000000          0.773429        0.773429           0.785923   \n",
       "2     1.000000          0.724728        0.724728           0.730320   \n",
       "\n",
       "   F1 Testing   FP_rate   FN_rate        FP        FN      Total  \n",
       "3    0.855284  0.054461  0.084202   68401.0  105754.0  1255960.0  \n",
       "0    0.828526  0.071863  0.093803   90257.0  117813.0  1255960.0  \n",
       "1    0.756127  0.092519  0.134052  116200.0  168364.0  1255960.0  \n",
       "2    0.706449  0.103053  0.172219  129431.0  216300.0  1255960.0  "
      ]
     },
     "execution_count": 11,
     "metadata": {},
     "output_type": "execute_result"
    }
   ],
   "source": [
    "pd.read_csv('.\\\\Models\\\\PERFORMANCE\\\\smote_simplePerformance.csv').sort_values(by=['Accuracy Testing', 'Recall Testing', 'Precision Testing', 'F1 Testing'], ascending=False).head(20)"
   ]
  },
  {
   "cell_type": "markdown",
   "id": "69ece9bc",
   "metadata": {},
   "source": [
    "### SMOTE Complex performance results"
   ]
  },
  {
   "cell_type": "code",
   "execution_count": 10,
   "id": "527163cf",
   "metadata": {},
   "outputs": [
    {
     "data": {
      "text/html": [
       "<div>\n",
       "<style scoped>\n",
       "    .dataframe tbody tr th:only-of-type {\n",
       "        vertical-align: middle;\n",
       "    }\n",
       "\n",
       "    .dataframe tbody tr th {\n",
       "        vertical-align: top;\n",
       "    }\n",
       "\n",
       "    .dataframe thead th {\n",
       "        text-align: right;\n",
       "    }\n",
       "</style>\n",
       "<table border=\"1\" class=\"dataframe\">\n",
       "  <thead>\n",
       "    <tr style=\"text-align: right;\">\n",
       "      <th></th>\n",
       "      <th>Unnamed: 0</th>\n",
       "      <th>Accuracy Training</th>\n",
       "      <th>Recall Training</th>\n",
       "      <th>Precision Training</th>\n",
       "      <th>F1 Training</th>\n",
       "      <th>Accuracy Testing</th>\n",
       "      <th>Recall Testing</th>\n",
       "      <th>Precision Testing</th>\n",
       "      <th>F1 Testing</th>\n",
       "      <th>FP_rate</th>\n",
       "      <th>FN_rate</th>\n",
       "      <th>FP</th>\n",
       "      <th>FN</th>\n",
       "      <th>Total</th>\n",
       "    </tr>\n",
       "  </thead>\n",
       "  <tbody>\n",
       "    <tr>\n",
       "      <th>1</th>\n",
       "      <td>Bagging</td>\n",
       "      <td>0.998188</td>\n",
       "      <td>0.998188</td>\n",
       "      <td>0.998191</td>\n",
       "      <td>0.998188</td>\n",
       "      <td>0.863353</td>\n",
       "      <td>0.863353</td>\n",
       "      <td>0.868118</td>\n",
       "      <td>0.856839</td>\n",
       "      <td>0.054194</td>\n",
       "      <td>0.082453</td>\n",
       "      <td>68065.0</td>\n",
       "      <td>103558.0</td>\n",
       "      <td>1255960.0</td>\n",
       "    </tr>\n",
       "    <tr>\n",
       "      <th>0</th>\n",
       "      <td>Voting</td>\n",
       "      <td>1.000000</td>\n",
       "      <td>1.000000</td>\n",
       "      <td>1.000000</td>\n",
       "      <td>1.000000</td>\n",
       "      <td>0.850948</td>\n",
       "      <td>0.850948</td>\n",
       "      <td>0.856217</td>\n",
       "      <td>0.844907</td>\n",
       "      <td>0.060687</td>\n",
       "      <td>0.088365</td>\n",
       "      <td>76220.0</td>\n",
       "      <td>110983.0</td>\n",
       "      <td>1255960.0</td>\n",
       "    </tr>\n",
       "    <tr>\n",
       "      <th>2</th>\n",
       "      <td>Stacking</td>\n",
       "      <td>0.999994</td>\n",
       "      <td>0.999994</td>\n",
       "      <td>0.999994</td>\n",
       "      <td>0.999994</td>\n",
       "      <td>0.742044</td>\n",
       "      <td>0.742044</td>\n",
       "      <td>0.816387</td>\n",
       "      <td>0.718964</td>\n",
       "      <td>0.086542</td>\n",
       "      <td>0.171415</td>\n",
       "      <td>108693.0</td>\n",
       "      <td>215290.0</td>\n",
       "      <td>1255960.0</td>\n",
       "    </tr>\n",
       "  </tbody>\n",
       "</table>\n",
       "</div>"
      ],
      "text/plain": [
       "  Unnamed: 0  Accuracy Training  Recall Training  Precision Training  \\\n",
       "1    Bagging           0.998188         0.998188            0.998191   \n",
       "0     Voting           1.000000         1.000000            1.000000   \n",
       "2   Stacking           0.999994         0.999994            0.999994   \n",
       "\n",
       "   F1 Training  Accuracy Testing  Recall Testing  Precision Testing  \\\n",
       "1     0.998188          0.863353        0.863353           0.868118   \n",
       "0     1.000000          0.850948        0.850948           0.856217   \n",
       "2     0.999994          0.742044        0.742044           0.816387   \n",
       "\n",
       "   F1 Testing   FP_rate   FN_rate        FP        FN      Total  \n",
       "1    0.856839  0.054194  0.082453   68065.0  103558.0  1255960.0  \n",
       "0    0.844907  0.060687  0.088365   76220.0  110983.0  1255960.0  \n",
       "2    0.718964  0.086542  0.171415  108693.0  215290.0  1255960.0  "
      ]
     },
     "execution_count": 10,
     "metadata": {},
     "output_type": "execute_result"
    }
   ],
   "source": [
    "pd.read_csv('.\\\\Models\\\\PERFORMANCE\\\\smote_complexPerformance.csv').sort_values(by=['Accuracy Testing', 'Recall Testing', 'Precision Testing', 'F1 Testing'], ascending=False).head(20)"
   ]
  },
  {
   "cell_type": "markdown",
   "id": "f6831e94",
   "metadata": {},
   "source": [
    "### Simple performance results"
   ]
  },
  {
   "cell_type": "code",
   "execution_count": 12,
   "id": "a2cfd006",
   "metadata": {},
   "outputs": [
    {
     "data": {
      "text/html": [
       "<div>\n",
       "<style scoped>\n",
       "    .dataframe tbody tr th:only-of-type {\n",
       "        vertical-align: middle;\n",
       "    }\n",
       "\n",
       "    .dataframe tbody tr th {\n",
       "        vertical-align: top;\n",
       "    }\n",
       "\n",
       "    .dataframe thead th {\n",
       "        text-align: right;\n",
       "    }\n",
       "</style>\n",
       "<table border=\"1\" class=\"dataframe\">\n",
       "  <thead>\n",
       "    <tr style=\"text-align: right;\">\n",
       "      <th></th>\n",
       "      <th>Unnamed: 0</th>\n",
       "      <th>Accuracy Training</th>\n",
       "      <th>Recall Training</th>\n",
       "      <th>Precision Training</th>\n",
       "      <th>F1 Training</th>\n",
       "      <th>Accuracy Testing</th>\n",
       "      <th>Recall Testing</th>\n",
       "      <th>Precision Testing</th>\n",
       "      <th>F1 Testing</th>\n",
       "      <th>FP_rate</th>\n",
       "      <th>FN_rate</th>\n",
       "      <th>FP</th>\n",
       "      <th>FN</th>\n",
       "      <th>Total</th>\n",
       "    </tr>\n",
       "  </thead>\n",
       "  <tbody>\n",
       "    <tr>\n",
       "      <th>3</th>\n",
       "      <td>XGB</td>\n",
       "      <td>0.999979</td>\n",
       "      <td>0.999857</td>\n",
       "      <td>0.999911</td>\n",
       "      <td>0.999884</td>\n",
       "      <td>0.994365</td>\n",
       "      <td>0.851536</td>\n",
       "      <td>0.944877</td>\n",
       "      <td>0.880901</td>\n",
       "      <td>0.001814</td>\n",
       "      <td>0.003821</td>\n",
       "      <td>434.0</td>\n",
       "      <td>914.0</td>\n",
       "      <td>239203.0</td>\n",
       "    </tr>\n",
       "    <tr>\n",
       "      <th>0</th>\n",
       "      <td>DT</td>\n",
       "      <td>1.000000</td>\n",
       "      <td>1.000000</td>\n",
       "      <td>1.000000</td>\n",
       "      <td>1.000000</td>\n",
       "      <td>0.991902</td>\n",
       "      <td>0.835225</td>\n",
       "      <td>0.824534</td>\n",
       "      <td>0.825737</td>\n",
       "      <td>0.004197</td>\n",
       "      <td>0.003900</td>\n",
       "      <td>1004.0</td>\n",
       "      <td>933.0</td>\n",
       "      <td>239203.0</td>\n",
       "    </tr>\n",
       "    <tr>\n",
       "      <th>1</th>\n",
       "      <td>RF</td>\n",
       "      <td>1.000000</td>\n",
       "      <td>1.000000</td>\n",
       "      <td>1.000000</td>\n",
       "      <td>1.000000</td>\n",
       "      <td>0.991806</td>\n",
       "      <td>0.701688</td>\n",
       "      <td>0.771657</td>\n",
       "      <td>0.708774</td>\n",
       "      <td>0.002479</td>\n",
       "      <td>0.005715</td>\n",
       "      <td>593.0</td>\n",
       "      <td>1367.0</td>\n",
       "      <td>239203.0</td>\n",
       "    </tr>\n",
       "    <tr>\n",
       "      <th>4</th>\n",
       "      <td>Cat</td>\n",
       "      <td>0.997696</td>\n",
       "      <td>0.973053</td>\n",
       "      <td>0.992825</td>\n",
       "      <td>0.981896</td>\n",
       "      <td>0.991735</td>\n",
       "      <td>0.713020</td>\n",
       "      <td>0.789654</td>\n",
       "      <td>0.723507</td>\n",
       "      <td>0.002935</td>\n",
       "      <td>0.005330</td>\n",
       "      <td>702.0</td>\n",
       "      <td>1275.0</td>\n",
       "      <td>239203.0</td>\n",
       "    </tr>\n",
       "    <tr>\n",
       "      <th>2</th>\n",
       "      <td>ET</td>\n",
       "      <td>1.000000</td>\n",
       "      <td>1.000000</td>\n",
       "      <td>1.000000</td>\n",
       "      <td>1.000000</td>\n",
       "      <td>0.987993</td>\n",
       "      <td>0.685396</td>\n",
       "      <td>0.729531</td>\n",
       "      <td>0.694015</td>\n",
       "      <td>0.003917</td>\n",
       "      <td>0.008089</td>\n",
       "      <td>937.0</td>\n",
       "      <td>1935.0</td>\n",
       "      <td>239203.0</td>\n",
       "    </tr>\n",
       "    <tr>\n",
       "      <th>6</th>\n",
       "      <td>GBoost</td>\n",
       "      <td>0.985852</td>\n",
       "      <td>0.686689</td>\n",
       "      <td>0.725083</td>\n",
       "      <td>0.682787</td>\n",
       "      <td>0.985075</td>\n",
       "      <td>0.648145</td>\n",
       "      <td>0.651033</td>\n",
       "      <td>0.641554</td>\n",
       "      <td>0.005715</td>\n",
       "      <td>0.009210</td>\n",
       "      <td>1367.0</td>\n",
       "      <td>2203.0</td>\n",
       "      <td>239203.0</td>\n",
       "    </tr>\n",
       "    <tr>\n",
       "      <th>8</th>\n",
       "      <td>MLP</td>\n",
       "      <td>0.986275</td>\n",
       "      <td>0.690842</td>\n",
       "      <td>0.801994</td>\n",
       "      <td>0.707227</td>\n",
       "      <td>0.983600</td>\n",
       "      <td>0.649651</td>\n",
       "      <td>0.690817</td>\n",
       "      <td>0.658087</td>\n",
       "      <td>0.005665</td>\n",
       "      <td>0.010736</td>\n",
       "      <td>1355.0</td>\n",
       "      <td>2568.0</td>\n",
       "      <td>239203.0</td>\n",
       "    </tr>\n",
       "    <tr>\n",
       "      <th>9</th>\n",
       "      <td>HistGradientBoosting</td>\n",
       "      <td>0.924877</td>\n",
       "      <td>0.451796</td>\n",
       "      <td>0.455007</td>\n",
       "      <td>0.430397</td>\n",
       "      <td>0.924048</td>\n",
       "      <td>0.446864</td>\n",
       "      <td>0.449786</td>\n",
       "      <td>0.424905</td>\n",
       "      <td>0.043528</td>\n",
       "      <td>0.032424</td>\n",
       "      <td>10412.0</td>\n",
       "      <td>7756.0</td>\n",
       "      <td>239203.0</td>\n",
       "    </tr>\n",
       "    <tr>\n",
       "      <th>5</th>\n",
       "      <td>LIGHT</td>\n",
       "      <td>0.582403</td>\n",
       "      <td>0.217012</td>\n",
       "      <td>0.198287</td>\n",
       "      <td>0.187017</td>\n",
       "      <td>0.583366</td>\n",
       "      <td>0.216527</td>\n",
       "      <td>0.196885</td>\n",
       "      <td>0.186656</td>\n",
       "      <td>0.148673</td>\n",
       "      <td>0.267961</td>\n",
       "      <td>35563.0</td>\n",
       "      <td>64097.0</td>\n",
       "      <td>239203.0</td>\n",
       "    </tr>\n",
       "    <tr>\n",
       "      <th>7</th>\n",
       "      <td>Adaboost</td>\n",
       "      <td>0.409415</td>\n",
       "      <td>0.362665</td>\n",
       "      <td>0.491495</td>\n",
       "      <td>0.350515</td>\n",
       "      <td>0.407637</td>\n",
       "      <td>0.388987</td>\n",
       "      <td>0.491315</td>\n",
       "      <td>0.372765</td>\n",
       "      <td>0.335673</td>\n",
       "      <td>0.256690</td>\n",
       "      <td>80294.0</td>\n",
       "      <td>61401.0</td>\n",
       "      <td>239203.0</td>\n",
       "    </tr>\n",
       "  </tbody>\n",
       "</table>\n",
       "</div>"
      ],
      "text/plain": [
       "             Unnamed: 0  Accuracy Training  Recall Training  \\\n",
       "3                   XGB           0.999979         0.999857   \n",
       "0                    DT           1.000000         1.000000   \n",
       "1                    RF           1.000000         1.000000   \n",
       "4                   Cat           0.997696         0.973053   \n",
       "2                    ET           1.000000         1.000000   \n",
       "6                GBoost           0.985852         0.686689   \n",
       "8                   MLP           0.986275         0.690842   \n",
       "9  HistGradientBoosting           0.924877         0.451796   \n",
       "5                 LIGHT           0.582403         0.217012   \n",
       "7              Adaboost           0.409415         0.362665   \n",
       "\n",
       "   Precision Training  F1 Training  Accuracy Testing  Recall Testing  \\\n",
       "3            0.999911     0.999884          0.994365        0.851536   \n",
       "0            1.000000     1.000000          0.991902        0.835225   \n",
       "1            1.000000     1.000000          0.991806        0.701688   \n",
       "4            0.992825     0.981896          0.991735        0.713020   \n",
       "2            1.000000     1.000000          0.987993        0.685396   \n",
       "6            0.725083     0.682787          0.985075        0.648145   \n",
       "8            0.801994     0.707227          0.983600        0.649651   \n",
       "9            0.455007     0.430397          0.924048        0.446864   \n",
       "5            0.198287     0.187017          0.583366        0.216527   \n",
       "7            0.491495     0.350515          0.407637        0.388987   \n",
       "\n",
       "   Precision Testing  F1 Testing   FP_rate   FN_rate       FP       FN  \\\n",
       "3           0.944877    0.880901  0.001814  0.003821    434.0    914.0   \n",
       "0           0.824534    0.825737  0.004197  0.003900   1004.0    933.0   \n",
       "1           0.771657    0.708774  0.002479  0.005715    593.0   1367.0   \n",
       "4           0.789654    0.723507  0.002935  0.005330    702.0   1275.0   \n",
       "2           0.729531    0.694015  0.003917  0.008089    937.0   1935.0   \n",
       "6           0.651033    0.641554  0.005715  0.009210   1367.0   2203.0   \n",
       "8           0.690817    0.658087  0.005665  0.010736   1355.0   2568.0   \n",
       "9           0.449786    0.424905  0.043528  0.032424  10412.0   7756.0   \n",
       "5           0.196885    0.186656  0.148673  0.267961  35563.0  64097.0   \n",
       "7           0.491315    0.372765  0.335673  0.256690  80294.0  61401.0   \n",
       "\n",
       "      Total  \n",
       "3  239203.0  \n",
       "0  239203.0  \n",
       "1  239203.0  \n",
       "4  239203.0  \n",
       "2  239203.0  \n",
       "6  239203.0  \n",
       "8  239203.0  \n",
       "9  239203.0  \n",
       "5  239203.0  \n",
       "7  239203.0  "
      ]
     },
     "execution_count": 12,
     "metadata": {},
     "output_type": "execute_result"
    }
   ],
   "source": [
    "pd.read_csv('.\\\\Models\\\\PERFORMANCE\\\\simplePerformance.csv').sort_values(by=['Accuracy Testing', 'Recall Testing', 'Precision Testing', 'F1 Testing'], ascending=False).head(20)"
   ]
  },
  {
   "cell_type": "markdown",
   "id": "cc2c21ef",
   "metadata": {},
   "source": [
    "### Complex performance results"
   ]
  },
  {
   "cell_type": "code",
   "execution_count": 13,
   "id": "1375d07a",
   "metadata": {},
   "outputs": [
    {
     "data": {
      "text/html": [
       "<div>\n",
       "<style scoped>\n",
       "    .dataframe tbody tr th:only-of-type {\n",
       "        vertical-align: middle;\n",
       "    }\n",
       "\n",
       "    .dataframe tbody tr th {\n",
       "        vertical-align: top;\n",
       "    }\n",
       "\n",
       "    .dataframe thead th {\n",
       "        text-align: right;\n",
       "    }\n",
       "</style>\n",
       "<table border=\"1\" class=\"dataframe\">\n",
       "  <thead>\n",
       "    <tr style=\"text-align: right;\">\n",
       "      <th></th>\n",
       "      <th>Unnamed: 0</th>\n",
       "      <th>Accuracy Training</th>\n",
       "      <th>Recall Training</th>\n",
       "      <th>Precision Training</th>\n",
       "      <th>F1 Training</th>\n",
       "      <th>Accuracy Testing</th>\n",
       "      <th>Recall Testing</th>\n",
       "      <th>Precision Testing</th>\n",
       "      <th>F1 Testing</th>\n",
       "      <th>FP_rate</th>\n",
       "      <th>FN_rate</th>\n",
       "      <th>FP</th>\n",
       "      <th>FN</th>\n",
       "      <th>Total</th>\n",
       "    </tr>\n",
       "  </thead>\n",
       "  <tbody>\n",
       "    <tr>\n",
       "      <th>1</th>\n",
       "      <td>Bagging</td>\n",
       "      <td>0.999560</td>\n",
       "      <td>0.989478</td>\n",
       "      <td>0.997872</td>\n",
       "      <td>0.993416</td>\n",
       "      <td>0.994519</td>\n",
       "      <td>0.842889</td>\n",
       "      <td>0.914111</td>\n",
       "      <td>0.869821</td>\n",
       "      <td>0.001434</td>\n",
       "      <td>0.004047</td>\n",
       "      <td>343.0</td>\n",
       "      <td>968.0</td>\n",
       "      <td>239203.0</td>\n",
       "    </tr>\n",
       "    <tr>\n",
       "      <th>0</th>\n",
       "      <td>Voting</td>\n",
       "      <td>1.000000</td>\n",
       "      <td>1.000000</td>\n",
       "      <td>1.000000</td>\n",
       "      <td>1.000000</td>\n",
       "      <td>0.993972</td>\n",
       "      <td>0.843289</td>\n",
       "      <td>0.897316</td>\n",
       "      <td>0.855755</td>\n",
       "      <td>0.002375</td>\n",
       "      <td>0.003654</td>\n",
       "      <td>568.0</td>\n",
       "      <td>874.0</td>\n",
       "      <td>239203.0</td>\n",
       "    </tr>\n",
       "    <tr>\n",
       "      <th>2</th>\n",
       "      <td>Stacking</td>\n",
       "      <td>0.999292</td>\n",
       "      <td>0.814850</td>\n",
       "      <td>0.876248</td>\n",
       "      <td>0.820920</td>\n",
       "      <td>0.993290</td>\n",
       "      <td>0.792646</td>\n",
       "      <td>0.882363</td>\n",
       "      <td>0.818658</td>\n",
       "      <td>0.002446</td>\n",
       "      <td>0.004264</td>\n",
       "      <td>585.0</td>\n",
       "      <td>1020.0</td>\n",
       "      <td>239203.0</td>\n",
       "    </tr>\n",
       "  </tbody>\n",
       "</table>\n",
       "</div>"
      ],
      "text/plain": [
       "  Unnamed: 0  Accuracy Training  Recall Training  Precision Training  \\\n",
       "1    Bagging           0.999560         0.989478            0.997872   \n",
       "0     Voting           1.000000         1.000000            1.000000   \n",
       "2   Stacking           0.999292         0.814850            0.876248   \n",
       "\n",
       "   F1 Training  Accuracy Testing  Recall Testing  Precision Testing  \\\n",
       "1     0.993416          0.994519        0.842889           0.914111   \n",
       "0     1.000000          0.993972        0.843289           0.897316   \n",
       "2     0.820920          0.993290        0.792646           0.882363   \n",
       "\n",
       "   F1 Testing   FP_rate   FN_rate     FP      FN     Total  \n",
       "1    0.869821  0.001434  0.004047  343.0   968.0  239203.0  \n",
       "0    0.855755  0.002375  0.003654  568.0   874.0  239203.0  \n",
       "2    0.818658  0.002446  0.004264  585.0  1020.0  239203.0  "
      ]
     },
     "execution_count": 13,
     "metadata": {},
     "output_type": "execute_result"
    }
   ],
   "source": [
    "pd.read_csv('.\\\\Models\\\\PERFORMANCE\\\\complexPerformance.csv').sort_values(by=['Accuracy Testing', 'Recall Testing', 'Precision Testing', 'F1 Testing'], ascending=False).head(20)"
   ]
  },
  {
   "cell_type": "markdown",
   "id": "3cc148c7",
   "metadata": {},
   "source": [
    "### Complex performance results with tuning simple models"
   ]
  },
  {
   "cell_type": "code",
   "execution_count": 18,
   "id": "f12d2e7c",
   "metadata": {},
   "outputs": [
    {
     "data": {
      "text/html": [
       "<div>\n",
       "<style scoped>\n",
       "    .dataframe tbody tr th:only-of-type {\n",
       "        vertical-align: middle;\n",
       "    }\n",
       "\n",
       "    .dataframe tbody tr th {\n",
       "        vertical-align: top;\n",
       "    }\n",
       "\n",
       "    .dataframe thead th {\n",
       "        text-align: right;\n",
       "    }\n",
       "</style>\n",
       "<table border=\"1\" class=\"dataframe\">\n",
       "  <thead>\n",
       "    <tr style=\"text-align: right;\">\n",
       "      <th></th>\n",
       "      <th>Unnamed: 0</th>\n",
       "      <th>Accuracy Training</th>\n",
       "      <th>Recall Training</th>\n",
       "      <th>Precision Training</th>\n",
       "      <th>F1 Training</th>\n",
       "      <th>Accuracy Testing</th>\n",
       "      <th>Recall Testing</th>\n",
       "      <th>Precision Testing</th>\n",
       "      <th>F1 Testing</th>\n",
       "      <th>FP_rate</th>\n",
       "      <th>FN_rate</th>\n",
       "      <th>FP</th>\n",
       "      <th>FN</th>\n",
       "      <th>Total</th>\n",
       "    </tr>\n",
       "  </thead>\n",
       "  <tbody>\n",
       "    <tr>\n",
       "      <th>0</th>\n",
       "      <td>Voting</td>\n",
       "      <td>0.999116</td>\n",
       "      <td>0.982762</td>\n",
       "      <td>0.998932</td>\n",
       "      <td>0.990372</td>\n",
       "      <td>0.994574</td>\n",
       "      <td>0.850900</td>\n",
       "      <td>0.953960</td>\n",
       "      <td>0.882017</td>\n",
       "      <td>0.001689</td>\n",
       "      <td>0.003737</td>\n",
       "      <td>404.0</td>\n",
       "      <td>894.0</td>\n",
       "      <td>239203.0</td>\n",
       "    </tr>\n",
       "    <tr>\n",
       "      <th>1</th>\n",
       "      <td>Bagging</td>\n",
       "      <td>0.999723</td>\n",
       "      <td>0.995741</td>\n",
       "      <td>0.998328</td>\n",
       "      <td>0.997001</td>\n",
       "      <td>0.994498</td>\n",
       "      <td>0.850220</td>\n",
       "      <td>0.943463</td>\n",
       "      <td>0.883143</td>\n",
       "      <td>0.001568</td>\n",
       "      <td>0.003934</td>\n",
       "      <td>375.0</td>\n",
       "      <td>941.0</td>\n",
       "      <td>239203.0</td>\n",
       "    </tr>\n",
       "    <tr>\n",
       "      <th>2</th>\n",
       "      <td>Stacking</td>\n",
       "      <td>0.997340</td>\n",
       "      <td>0.894030</td>\n",
       "      <td>0.984772</td>\n",
       "      <td>0.927305</td>\n",
       "      <td>0.993846</td>\n",
       "      <td>0.846887</td>\n",
       "      <td>0.943662</td>\n",
       "      <td>0.876578</td>\n",
       "      <td>0.002270</td>\n",
       "      <td>0.003884</td>\n",
       "      <td>543.0</td>\n",
       "      <td>929.0</td>\n",
       "      <td>239203.0</td>\n",
       "    </tr>\n",
       "  </tbody>\n",
       "</table>\n",
       "</div>"
      ],
      "text/plain": [
       "  Unnamed: 0  Accuracy Training  Recall Training  Precision Training  \\\n",
       "0     Voting           0.999116         0.982762            0.998932   \n",
       "1    Bagging           0.999723         0.995741            0.998328   \n",
       "2   Stacking           0.997340         0.894030            0.984772   \n",
       "\n",
       "   F1 Training  Accuracy Testing  Recall Testing  Precision Testing  \\\n",
       "0     0.990372          0.994574        0.850900           0.953960   \n",
       "1     0.997001          0.994498        0.850220           0.943463   \n",
       "2     0.927305          0.993846        0.846887           0.943662   \n",
       "\n",
       "   F1 Testing   FP_rate   FN_rate     FP     FN     Total  \n",
       "0    0.882017  0.001689  0.003737  404.0  894.0  239203.0  \n",
       "1    0.883143  0.001568  0.003934  375.0  941.0  239203.0  \n",
       "2    0.876578  0.002270  0.003884  543.0  929.0  239203.0  "
      ]
     },
     "execution_count": 18,
     "metadata": {},
     "output_type": "execute_result"
    }
   ],
   "source": [
    "pd.read_csv('.\\\\Models\\\\PERFORMANCE\\\\tuning_simple_complexPerformance.csv').sort_values(by=['Accuracy Testing', 'Recall Testing', 'Precision Testing', 'F1 Testing'], ascending=False).head(20)"
   ]
  },
  {
   "cell_type": "markdown",
   "id": "a1a753a4",
   "metadata": {},
   "source": [
    "### RF results"
   ]
  },
  {
   "cell_type": "code",
   "execution_count": 24,
   "id": "c767ae42",
   "metadata": {},
   "outputs": [
    {
     "name": "stderr",
     "output_type": "stream",
     "text": [
      "100%|██████████| 34/34 [00:00<00:00, 82.97it/s]\n"
     ]
    },
    {
     "data": {
      "image/png": "[encoded data removed]",
      "text/plain": [
       "<Figure size 3000x2200 with 2 Axes>"
      ]
     },
     "metadata": {},
     "output_type": "display_data"
    },
    {
     "name": "stderr",
     "output_type": "stream",
     "text": [
      "100%|██████████| 1/1 [00:46<00:00, 46.32s/it]\n"
     ]
    },
    {
     "data": {
      "text/html": [
       "<div>\n",
       "<style scoped>\n",
       "    .dataframe tbody tr th:only-of-type {\n",
       "        vertical-align: middle;\n",
       "    }\n",
       "\n",
       "    .dataframe tbody tr th {\n",
       "        vertical-align: top;\n",
       "    }\n",
       "\n",
       "    .dataframe thead th {\n",
       "        text-align: right;\n",
       "    }\n",
       "</style>\n",
       "<table border=\"1\" class=\"dataframe\">\n",
       "  <thead>\n",
       "    <tr style=\"text-align: right;\">\n",
       "      <th></th>\n",
       "      <th>Accuracy Training</th>\n",
       "      <th>Recall Training</th>\n",
       "      <th>Precision Training</th>\n",
       "      <th>F1 Training</th>\n",
       "      <th>Accuracy Testing</th>\n",
       "      <th>Recall Testing</th>\n",
       "      <th>Precision Testing</th>\n",
       "      <th>F1 Testing</th>\n",
       "      <th>FP_rate</th>\n",
       "      <th>FN_rate</th>\n",
       "      <th>FP</th>\n",
       "      <th>FN</th>\n",
       "      <th>Total</th>\n",
       "    </tr>\n",
       "  </thead>\n",
       "  <tbody>\n",
       "    <tr>\n",
       "      <th>RF</th>\n",
       "      <td>1.0</td>\n",
       "      <td>1.0</td>\n",
       "      <td>1.0</td>\n",
       "      <td>1.0</td>\n",
       "      <td>0.991806</td>\n",
       "      <td>0.701688</td>\n",
       "      <td>0.771657</td>\n",
       "      <td>0.708774</td>\n",
       "      <td>0.002479</td>\n",
       "      <td>0.005715</td>\n",
       "      <td>593.0</td>\n",
       "      <td>1367.0</td>\n",
       "      <td>239203.0</td>\n",
       "    </tr>\n",
       "  </tbody>\n",
       "</table>\n",
       "</div>"
      ],
      "text/plain": [
       "    Accuracy Training  Recall Training  Precision Training  F1 Training  \\\n",
       "RF                1.0              1.0                 1.0          1.0   \n",
       "\n",
       "    Accuracy Testing  Recall Testing  Precision Testing  F1 Testing   FP_rate  \\\n",
       "RF          0.991806        0.701688           0.771657    0.708774  0.002479   \n",
       "\n",
       "     FN_rate     FP      FN     Total  \n",
       "RF  0.005715  593.0  1367.0  239203.0  "
      ]
     },
     "execution_count": 24,
     "metadata": {},
     "output_type": "execute_result"
    }
   ],
   "source": [
    "rf_performance = pd.DataFrame(columns=['Accuracy Training', 'Recall Training', 'Precision Training', 'F1 Training', 'Accuracy Testing', 'Recall Testing', 'Precision Testing', 'F1 Testing', 'FP_rate', 'FN_rate', 'FP', 'FN', 'Total'])\n",
    "mainPerformance([simpleModelsDitionnary[1]], rf_performance)\n",
    "rf_performance.head(20)"
   ]
  },
  {
   "cell_type": "markdown",
   "id": "51c56ad1",
   "metadata": {},
   "source": [
    "## Hyperparameter Tuning"
   ]
  },
  {
   "cell_type": "markdown",
   "id": "2aae6448",
   "metadata": {},
   "source": [
    "#### Functions"
   ]
  },
  {
   "cell_type": "code",
   "execution_count": 8,
   "id": "952c67ad",
   "metadata": {},
   "outputs": [],
   "source": [
    "def optimize_hyperparameters(model, param_space, X, y):\n",
    "    \"\"\"\n",
    "    Optimise les hyperparamètres du modèle en utilisant la recherche Bayesienne.\n",
    "\n",
    "    Args:\n",
    "    - model: Le modèle à optimiser (doit être compatible avec scikit-learn).\n",
    "    - param_space: L'espace des hyperparamètres à explorer (sous forme de dictionnaire).\n",
    "    - X: Les caractéristiques d'entraînement.\n",
    "    - y: Les étiquettes d'entraînement.\n",
    "\n",
    "    Returns:\n",
    "    - Le modèle optimisé avec les meilleurs hyperparamètres.\n",
    "    \"\"\"\n",
    "\n",
    "    # Utilisation de la validation croisée stratifiée\n",
    "    cv = StratifiedKFold(n_splits=5, shuffle=True, random_state=42)\n",
    "\n",
    "    # Initialisation de la recherche Bayesienne\n",
    "    bayes_search = BayesSearchCV(\n",
    "        model,\n",
    "        param_space,\n",
    "        n_iter=10,  # Nombre d'itérations de la recherche Bayesienne\n",
    "        cv=cv,\n",
    "        n_jobs=-1,  # Utilisation de tous les cœurs disponibles\n",
    "        verbose=0,  # Affichage des détails de la recherche\n",
    "        random_state=42\n",
    "    )\n",
    "\n",
    "    # Lancer la recherche Bayesienne\n",
    "    bayes_search.fit(X, y)\n",
    "\n",
    "    # Retourner le modèle avec les meilleurs hyperparamètres\n",
    "    best_model = bayes_search.best_estimator_\n",
    "\n",
    "    return best_model\n",
    "\n",
    "def trainModel(model, modelName, param_space, X_train, y_train):\n",
    "    label_encoder = LabelEncoder()\n",
    "\n",
    "    # Scale the train set\n",
    "    X_train = scaler.transform(X_train)\n",
    "    y_train_encoded = label_encoder.fit_transform(y_train)\n",
    "\n",
    "    # Optimiser les hyperparamètres du modèle\n",
    "    best_rf_model = optimize_hyperparameters(model, param_space, X_train, y_train_encoded)\n",
    "\n",
    "    # Save model\n",
    "    joblib.dump(best_rf_model, f\".\\\\Models\\\\TUNING\\\\model_{modelName}.joblib\")\n",
    "\n",
    "    return best_rf_model\n",
    "\n",
    "def loadDatasetsTraining(training_set):\n",
    "    return pd.read_csv(DATASET_DIRECTORY + training_set)[X_columns], pd.read_csv(DATASET_DIRECTORY + training_set)[y_column]"
   ]
  },
  {
   "cell_type": "markdown",
   "id": "960993df",
   "metadata": {},
   "source": [
    "### Simple hyperparameter tuning"
   ]
  },
  {
   "cell_type": "markdown",
   "id": "aebd3ac1",
   "metadata": {},
   "source": [
    "#### Launch"
   ]
  },
  {
   "cell_type": "code",
   "execution_count": 10,
   "id": "dc192301",
   "metadata": {},
   "outputs": [],
   "source": [
    "# Dictionnaire des modèles à optimiser\n",
    "hyperparametersSimpleModelsDictionnary = [\n",
    "    simpleModelsDitionnary[0],\n",
    "    simpleModelsDitionnary[1],\n",
    "    simpleModelsDitionnary[3],\n",
    "]\n",
    "\n",
    "# Define model-specific parameter spaces\n",
    "param_space_decision_tree = {\n",
    "    'max_depth': (1, 20),\n",
    "    'min_samples_split': (2, 20),\n",
    "    'min_samples_leaf': (1, 20),\n",
    "}\n",
    "\n",
    "param_space_random_forest = {\n",
    "    'n_estimators': (10, 200),\n",
    "    'max_depth': (1, 20),\n",
    "    'min_samples_split': (2, 20),\n",
    "    'min_samples_leaf': (1, 20),\n",
    "    'max_features': (0.1, 1.0),\n",
    "}\n",
    "\n",
    "param_space_xgboost = {\n",
    "    'n_estimators': (10, 200),\n",
    "    'max_depth': (1, 20),\n",
    "    'learning_rate': (0.01, 1.0),\n",
    "}\n",
    "\n",
    "\n",
    "# Add model-specific parameter spaces\n",
    "hyperparametersSimpleModelsDictionnary[0]['param_space'] = param_space_decision_tree\n",
    "hyperparametersSimpleModelsDictionnary[1]['param_space'] = param_space_random_forest\n",
    "hyperparametersSimpleModelsDictionnary[2]['param_space'] = param_space_xgboost"
   ]
  },
  {
   "cell_type": "code",
   "execution_count": 9,
   "id": "43eb2bca",
   "metadata": {},
   "outputs": [
    {
     "name": "stderr",
     "output_type": "stream",
     "text": [
      "100%|██████████| 1/1 [1:38:04<00:00, 5884.85s/it]\n"
     ]
    }
   ],
   "source": [
    "for model in tqdm(hyperparametersSimpleModelsDictionnary):\n",
    "    # Get model informations\n",
    "    modelName, model, params = model.values()\n",
    "\n",
    "    # Optimiser les hyperparamètres du modèle\n",
    "    X_train, y_train = loadDatasetsTraining(training_sets[0])\n",
    "    trainModel(model, modelName, params, X_train, y_train)"
   ]
  },
  {
   "cell_type": "markdown",
   "id": "67473021",
   "metadata": {},
   "source": [
    "#### Results"
   ]
  },
  {
   "cell_type": "code",
   "execution_count": null,
   "id": "2330c391",
   "metadata": {},
   "outputs": [],
   "source": [
    "# Define the performance dataFrame\n",
    "tuningPerformance = pd.DataFrame(columns=['Accuracy Training', 'Recall Training', 'Precision Training', 'F1 Training', 'Accuracy Testing', 'Recall Testing', 'Precision Testing', 'F1 Testing', 'FP_rate', 'FN_rate', 'FP', 'FN', 'Total'])\n",
    "\n",
    "for model in tqdm(hyperparametersSimpleModelsDictionnary):\n",
    "    # Load the model\n",
    "    best_rf_model = joblib.load(f\".\\\\Models\\\\TUNING\\\\model_{model['Name']}.joblib\")\n",
    "\n",
    "    label_encoder = LabelEncoder()\n",
    "\n",
    "    # Load the train set\n",
    "    X_train = pd.read_csv(DATASET_DIRECTORY + training_sets[0])[X_columns]\n",
    "    y_train = pd.read_csv(DATASET_DIRECTORY + training_sets[0])[y_column]\n",
    "\n",
    "    # Scale the train set\n",
    "    X_train = scaler.transform(X_train)\n",
    "    y_train_encoded = label_encoder.fit_transform(y_train)\n",
    "\n",
    "    # Get the train performance\n",
    "    y_pred_train = best_rf_model.predict(X_train)\n",
    "\n",
    "    # Load the test set\n",
    "    X_test = pd.read_csv(DATASET_DIRECTORY + test_sets[0])[X_columns]\n",
    "    y_test = pd.read_csv(DATASET_DIRECTORY + test_sets[0])[y_column]\n",
    "\n",
    "    # Scale the test set\n",
    "    X_test = scaler.transform(X_test)\n",
    "    y_test_encoded = label_encoder.transform(y_test)\n",
    "\n",
    "    # Get train performance\n",
    "    accuracy_train, recall_train, precision_train, f1_train = accuracy_score(y_train_encoded, y_pred_train), recall_score(y_train_encoded, y_pred_train, average='macro'), precision_score(y_train_encoded, y_pred_train, average='macro'), f1_score(y_train_encoded, y_pred_train, average='macro')\n",
    "\n",
    "    # Get test performance\n",
    "    accuracy_testing, recall_testing, precision_testing, f1_testing, fp, fn = singlePerformance(best_rf_model, X_test, y_test_encoded)\n",
    "\n",
    "    # Add performance to the dataframe\n",
    "    tuningPerformance.loc[model['Name']] = [accuracy_train, recall_train, precision_train, f1_train, accuracy_testing, recall_testing, precision_testing, f1_testing, fp/len(y_test_encoded), fn/len(y_test_encoded), fp, fn, len(y_test_encoded)]\n",
    "\n",
    "tuningPerformance.to_csv('.\\\\Models\\\\TUNING\\\\tuningPerformance.csv')\n",
    "tuningPerformance.head(20)"
   ]
  },
  {
   "cell_type": "markdown",
   "id": "3acd4fd1",
   "metadata": {},
   "source": [
    "### Complex hyperparameter tuning"
   ]
  },
  {
   "cell_type": "markdown",
   "id": "a7935d47",
   "metadata": {},
   "source": [
    "#### Launch"
   ]
  },
  {
   "cell_type": "code",
   "execution_count": 9,
   "id": "7a27dedf",
   "metadata": {},
   "outputs": [],
   "source": [
    "# Dictionnaire des modèles à optimiser\n",
    "hyperparametersComplexModelsDictionnary = [\n",
    "    # {\n",
    "    #     \"Name\": \"Voting\",\n",
    "    #     \"Model\": VotingClassifier([\n",
    "    #         ('XGBClassifier', joblib.load('.\\\\Models\\\\TUNING\\\\model_XGB.joblib')),\n",
    "    #         ('DecisionTreeClassifier', joblib.load('.\\\\Models\\\\TUNING\\\\model_DT.joblib')),\n",
    "    #         ('RandomForestClassifier', joblib.load('.\\\\Models\\\\TUNING\\\\model_RF.joblib')),\n",
    "    #         ])\n",
    "    # },\n",
    "    {\n",
    "        \"Name\": \"Bagging\",\n",
    "        \"Model\": BaggingClassifier(base_estimator=joblib.load('.\\\\Models\\\\TUNING\\\\model_XGB.joblib'))\n",
    "    },\n",
    "    {\n",
    "        \"Name\": \"Stacking\",\n",
    "        \"Model\": StackingClassifier([\n",
    "            ('DecisionTreeClassifier', joblib.load('.\\\\Models\\\\TUNING\\\\model_DT.joblib')),\n",
    "            ('RandomForestClassifier', joblib.load('.\\\\Models\\\\TUNING\\\\model_RF.joblib')),\n",
    "            ])\n",
    "    },\n",
    "]\n",
    "\n",
    "# Define model-specific parameter spaces\n",
    "param_space_voting = {\n",
    "    'voting': ['hard', 'soft'],  # Type de vote (hard ou soft)\n",
    "    'flatten_transform': [True, False]  # Si les prédictions des modèles doivent être aplaties\n",
    "}\n",
    "param_space_bagging = {\n",
    "    'n_estimators': (10, 200),  # Nombre d'estimateurs dans le BaggingClassifier\n",
    "    'max_samples': (0.1, 1.0),  # Fraction d'échantillons à utiliser pour chaque estimateur\n",
    "    'max_features': (0.1, 1.0),  # Fraction de caractéristiques à utiliser pour chaque estimateur\n",
    "}\n",
    "param_space_stacking = {\n",
    "    'stack_method': ['auto', 'predict_proba', 'decision_function'],  # Méthode pour les prédictions empilées\n",
    "    'n_jobs': [-1]  # Nombre de cœurs CPU à utiliser (-1 pour utiliser tous les cœurs)\n",
    "}\n",
    "\n",
    "\n",
    "# Add model-specific parameter spaces\n",
    "# hyperparametersComplexModelsDictionnary[0]['param_space'] = param_space_voting\n",
    "hyperparametersComplexModelsDictionnary[0]['param_space'] = param_space_bagging\n",
    "hyperparametersComplexModelsDictionnary[1]['param_space'] = param_space_stacking"
   ]
  },
  {
   "cell_type": "code",
   "execution_count": 10,
   "id": "b3cf3d09",
   "metadata": {},
   "outputs": [
    {
     "name": "stderr",
     "output_type": "stream",
     "text": [
      "  0%|          | 0/2 [00:00<?, ?it/s]"
     ]
    }
   ],
   "source": [
    "for model in tqdm(hyperparametersComplexModelsDictionnary):\n",
    "    # Get model informations\n",
    "    modelName, model, params = model.values()\n",
    "\n",
    "    # Optimiser les hyperparamètres du modèle\n",
    "    X_train, y_train = loadDatasetsTraining(training_sets[0])\n",
    "    trainModel(model, modelName, params, X_train, y_train)"
   ]
  },
  {
   "cell_type": "markdown",
   "id": "e1d907bf",
   "metadata": {},
   "source": [
    "#### Results"
   ]
  },
  {
   "cell_type": "code",
   "execution_count": null,
   "id": "5088456c",
   "metadata": {},
   "outputs": [],
   "source": [
    "# Define the performance dataFrame\n",
    "tuningPerformance = pd.DataFrame(columns=['Accuracy Training', 'Recall Training', 'Precision Training', 'F1 Training', 'Accuracy Testing', 'Recall Testing', 'Precision Testing', 'F1 Testing', 'FP_rate', 'FN_rate', 'FP', 'FN', 'Total'])\n",
    "# tuningPerformance = pd.read_csv('.\\\\Models\\\\TUNING\\\\complexTuningPerformance.csv', index_col=0)\n",
    "\n",
    "for model in tqdm(hyperparametersComplexModelsDictionnary):\n",
    "    # Load the model\n",
    "    best_rf_model = joblib.load(f\".\\\\Models\\\\TUNING\\\\model_{model['Name']}.joblib\")\n",
    "\n",
    "    label_encoder = LabelEncoder()\n",
    "\n",
    "    # Load the train set\n",
    "    X_train = pd.read_csv(DATASET_DIRECTORY + training_sets[0])[X_columns]\n",
    "    y_train = pd.read_csv(DATASET_DIRECTORY + training_sets[0])[y_column]\n",
    "\n",
    "    # Scale the train set\n",
    "    X_train = scaler.transform(X_train)\n",
    "    y_train_encoded = label_encoder.fit_transform(y_train)\n",
    "\n",
    "    # Get the train performance\n",
    "    y_pred_train = best_rf_model.predict(X_train)\n",
    "\n",
    "    # Load the test set\n",
    "    X_test = pd.read_csv(DATASET_DIRECTORY + test_sets[0])[X_columns]\n",
    "    y_test = pd.read_csv(DATASET_DIRECTORY + test_sets[0])[y_column]\n",
    "\n",
    "    # Scale the test set\n",
    "    X_test = scaler.transform(X_test)\n",
    "    y_test_encoded = label_encoder.transform(y_test)\n",
    "\n",
    "    # Get train performance\n",
    "    accuracy_train, recall_train, precision_train, f1_train = accuracy_score(y_train_encoded, y_pred_train), recall_score(y_train_encoded, y_pred_train, average='macro'), precision_score(y_train_encoded, y_pred_train, average='macro'), f1_score(y_train_encoded, y_pred_train, average='macro')\n",
    "\n",
    "    # Get test performance\n",
    "    accuracy_testing, recall_testing, precision_testing, f1_testing, fp, fn = singlePerformance(best_rf_model, X_test, y_test_encoded)\n",
    "\n",
    "    # Add performance to the dataframe\n",
    "    tuningPerformance.loc[model['Name']] = [accuracy_train, recall_train, precision_train, f1_train, accuracy_testing, recall_testing, precision_testing, f1_testing, fp/len(y_test_encoded), fn/len(y_test_encoded), fp, fn, len(y_test_encoded)]\n",
    "\n",
    "tuningPerformance.to_csv('.\\\\Models\\\\TUNING\\\\complexTuningPerformance.csv')\n",
    "# tuningPerformance.head(20)"
   ]
  },
  {
   "cell_type": "markdown",
   "id": "7feb3d4b",
   "metadata": {},
   "source": [
    "### Simple hyperparameter tuning results"
   ]
  },
  {
   "cell_type": "code",
   "execution_count": 14,
   "id": "6694b265",
   "metadata": {},
   "outputs": [
    {
     "data": {
      "text/html": [
       "<div>\n",
       "<style scoped>\n",
       "    .dataframe tbody tr th:only-of-type {\n",
       "        vertical-align: middle;\n",
       "    }\n",
       "\n",
       "    .dataframe tbody tr th {\n",
       "        vertical-align: top;\n",
       "    }\n",
       "\n",
       "    .dataframe thead th {\n",
       "        text-align: right;\n",
       "    }\n",
       "</style>\n",
       "<table border=\"1\" class=\"dataframe\">\n",
       "  <thead>\n",
       "    <tr style=\"text-align: right;\">\n",
       "      <th></th>\n",
       "      <th>Unnamed: 0</th>\n",
       "      <th>Accuracy Training</th>\n",
       "      <th>Recall Training</th>\n",
       "      <th>Precision Training</th>\n",
       "      <th>F1 Training</th>\n",
       "      <th>Accuracy Testing</th>\n",
       "      <th>Recall Testing</th>\n",
       "      <th>Precision Testing</th>\n",
       "      <th>F1 Testing</th>\n",
       "      <th>FP_rate</th>\n",
       "      <th>FN_rate</th>\n",
       "      <th>FP</th>\n",
       "      <th>FN</th>\n",
       "      <th>Total</th>\n",
       "    </tr>\n",
       "  </thead>\n",
       "  <tbody>\n",
       "    <tr>\n",
       "      <th>2</th>\n",
       "      <td>XGB</td>\n",
       "      <td>0.999996</td>\n",
       "      <td>0.999999</td>\n",
       "      <td>0.999998</td>\n",
       "      <td>0.999998</td>\n",
       "      <td>0.994402</td>\n",
       "      <td>0.856767</td>\n",
       "      <td>0.918675</td>\n",
       "      <td>0.879408</td>\n",
       "      <td>0.001986</td>\n",
       "      <td>0.003612</td>\n",
       "      <td>475.0</td>\n",
       "      <td>864.0</td>\n",
       "      <td>239203.0</td>\n",
       "    </tr>\n",
       "    <tr>\n",
       "      <th>1</th>\n",
       "      <td>RF</td>\n",
       "      <td>0.998173</td>\n",
       "      <td>0.955129</td>\n",
       "      <td>0.997747</td>\n",
       "      <td>0.974065</td>\n",
       "      <td>0.994373</td>\n",
       "      <td>0.832556</td>\n",
       "      <td>0.947522</td>\n",
       "      <td>0.866373</td>\n",
       "      <td>0.001380</td>\n",
       "      <td>0.004247</td>\n",
       "      <td>330.0</td>\n",
       "      <td>1016.0</td>\n",
       "      <td>239203.0</td>\n",
       "    </tr>\n",
       "    <tr>\n",
       "      <th>0</th>\n",
       "      <td>DT</td>\n",
       "      <td>0.996137</td>\n",
       "      <td>0.880690</td>\n",
       "      <td>0.940203</td>\n",
       "      <td>0.899206</td>\n",
       "      <td>0.992320</td>\n",
       "      <td>0.839000</td>\n",
       "      <td>0.881952</td>\n",
       "      <td>0.842205</td>\n",
       "      <td>0.002617</td>\n",
       "      <td>0.005063</td>\n",
       "      <td>626.0</td>\n",
       "      <td>1211.0</td>\n",
       "      <td>239203.0</td>\n",
       "    </tr>\n",
       "  </tbody>\n",
       "</table>\n",
       "</div>"
      ],
      "text/plain": [
       "  Unnamed: 0  Accuracy Training  Recall Training  Precision Training  \\\n",
       "2        XGB           0.999996         0.999999            0.999998   \n",
       "1         RF           0.998173         0.955129            0.997747   \n",
       "0         DT           0.996137         0.880690            0.940203   \n",
       "\n",
       "   F1 Training  Accuracy Testing  Recall Testing  Precision Testing  \\\n",
       "2     0.999998          0.994402        0.856767           0.918675   \n",
       "1     0.974065          0.994373        0.832556           0.947522   \n",
       "0     0.899206          0.992320        0.839000           0.881952   \n",
       "\n",
       "   F1 Testing   FP_rate   FN_rate     FP      FN     Total  \n",
       "2    0.879408  0.001986  0.003612  475.0   864.0  239203.0  \n",
       "1    0.866373  0.001380  0.004247  330.0  1016.0  239203.0  \n",
       "0    0.842205  0.002617  0.005063  626.0  1211.0  239203.0  "
      ]
     },
     "execution_count": 14,
     "metadata": {},
     "output_type": "execute_result"
    }
   ],
   "source": [
    "pd.read_csv('.\\\\Models\\\\TUNING\\\\tuningPerformance.csv').sort_values(by=['Accuracy Testing', 'Recall Testing', 'Precision Testing', 'F1 Testing'], ascending=False).head(20)"
   ]
  },
  {
   "cell_type": "markdown",
   "id": "68465500",
   "metadata": {},
   "source": [
    "### Complex hyperparameter tuning results"
   ]
  },
  {
   "cell_type": "code",
   "execution_count": null,
   "id": "de596b8f",
   "metadata": {},
   "outputs": [],
   "source": [
    "pd.read_csv('.\\\\Models\\\\TUNING\\\\complexTuningPerformance.csv').sort_values(by=['Accuracy Testing', 'Recall Testing', 'Precision Testing', 'F1 Testing'], ascending=False).head(20)"
   ]
  },
  {
   "cell_type": "markdown",
   "id": "60abc3f0-e32d-40be-abc5-fd5972cf9856",
   "metadata": {},
   "source": [
    "# Classification: 34 (33+1) classes"
   ]
  },
  {
   "cell_type": "code",
   "execution_count": 34,
   "id": "d208cf46-8ba9-480f-ab99-d4ee81c083b4",
   "metadata": {
    "tags": []
   },
   "outputs": [
    {
     "name": "stderr",
     "output_type": "stream",
     "text": [
      "  0%|          | 0/135 [00:00<?, ?it/s]"
     ]
    },
    {
     "name": "stdout",
     "output_type": "stream",
     "text": [
      "0    DDoS-RSTFINFlood\n",
      "1       DoS-TCP_Flood\n",
      "2     DDoS-ICMP_Flood\n",
      "3       DoS-UDP_Flood\n",
      "4       DoS-SYN_Flood\n",
      "Name: label, dtype: object\n"
     ]
    },
    {
     "name": "stderr",
     "output_type": "stream",
     "text": [
      "  0%|          | 0/135 [00:08<?, ?it/s]\n"
     ]
    },
    {
     "ename": "KeyboardInterrupt",
     "evalue": "",
     "output_type": "error",
     "traceback": [
      "\u001b[1;31m---------------------------------------------------------------------------\u001b[0m",
      "\u001b[1;31mKeyboardInterrupt\u001b[0m                         Traceback (most recent call last)",
      "\u001b[1;32mc:\\Users\\mlcra\\Desktop\\S5-Alt-2\\Données Massives\\CIC_IoT_Cyber_Attacks\\example.ipynb Cell 15\u001b[0m line \u001b[0;36m<cell line: 16>\u001b[1;34m()\u001b[0m\n\u001b[0;32m     <a href='vscode-notebook-cell:/c%3A/Users/mlcra/Desktop/S5-Alt-2/Donn%C3%A9es%20Massives/CIC_IoT_Cyber_Attacks/example.ipynb#X13sZmlsZQ%3D%3D?line=25'>26</a>\u001b[0m \u001b[39m# Pour chaque modèle\u001b[39;00m\n\u001b[0;32m     <a href='vscode-notebook-cell:/c%3A/Users/mlcra/Desktop/S5-Alt-2/Donn%C3%A9es%20Massives/CIC_IoT_Cyber_Attacks/example.ipynb#X13sZmlsZQ%3D%3D?line=26'>27</a>\u001b[0m \u001b[39mfor\u001b[39;00m model \u001b[39min\u001b[39;00m (ML_models):\n\u001b[0;32m     <a href='vscode-notebook-cell:/c%3A/Users/mlcra/Desktop/S5-Alt-2/Donn%C3%A9es%20Massives/CIC_IoT_Cyber_Attacks/example.ipynb#X13sZmlsZQ%3D%3D?line=27'>28</a>\u001b[0m \n\u001b[0;32m     <a href='vscode-notebook-cell:/c%3A/Users/mlcra/Desktop/S5-Alt-2/Donn%C3%A9es%20Massives/CIC_IoT_Cyber_Attacks/example.ipynb#X13sZmlsZQ%3D%3D?line=28'>29</a>\u001b[0m     \u001b[39m# On entraîne le modèle\u001b[39;00m\n\u001b[1;32m---> <a href='vscode-notebook-cell:/c%3A/Users/mlcra/Desktop/S5-Alt-2/Donn%C3%A9es%20Massives/CIC_IoT_Cyber_Attacks/example.ipynb#X13sZmlsZQ%3D%3D?line=29'>30</a>\u001b[0m     model\u001b[39m.\u001b[39;49mfit(d[X_columns], d[y_column])\n\u001b[0;32m     <a href='vscode-notebook-cell:/c%3A/Users/mlcra/Desktop/S5-Alt-2/Donn%C3%A9es%20Massives/CIC_IoT_Cyber_Attacks/example.ipynb#X13sZmlsZQ%3D%3D?line=31'>32</a>\u001b[0m \u001b[39m# On supprime le dataset\u001b[39;00m\n\u001b[0;32m     <a href='vscode-notebook-cell:/c%3A/Users/mlcra/Desktop/S5-Alt-2/Donn%C3%A9es%20Massives/CIC_IoT_Cyber_Attacks/example.ipynb#X13sZmlsZQ%3D%3D?line=32'>33</a>\u001b[0m \u001b[39mdel\u001b[39;00m d\n",
      "File \u001b[1;32mc:\\Users\\mlcra\\AppData\\Local\\Programs\\Orange\\lib\\site-packages\\sklearn\\tree\\_classes.py:969\u001b[0m, in \u001b[0;36mDecisionTreeClassifier.fit\u001b[1;34m(self, X, y, sample_weight, check_input)\u001b[0m\n\u001b[0;32m    939\u001b[0m \u001b[39mdef\u001b[39;00m \u001b[39mfit\u001b[39m(\u001b[39mself\u001b[39m, X, y, sample_weight\u001b[39m=\u001b[39m\u001b[39mNone\u001b[39;00m, check_input\u001b[39m=\u001b[39m\u001b[39mTrue\u001b[39;00m):\n\u001b[0;32m    940\u001b[0m \u001b[39m    \u001b[39m\u001b[39m\"\"\"Build a decision tree classifier from the training set (X, y).\u001b[39;00m\n\u001b[0;32m    941\u001b[0m \n\u001b[0;32m    942\u001b[0m \u001b[39m    Parameters\u001b[39;00m\n\u001b[1;32m   (...)\u001b[0m\n\u001b[0;32m    966\u001b[0m \u001b[39m        Fitted estimator.\u001b[39;00m\n\u001b[0;32m    967\u001b[0m \u001b[39m    \"\"\"\u001b[39;00m\n\u001b[1;32m--> 969\u001b[0m     \u001b[39msuper\u001b[39;49m()\u001b[39m.\u001b[39;49mfit(\n\u001b[0;32m    970\u001b[0m         X,\n\u001b[0;32m    971\u001b[0m         y,\n\u001b[0;32m    972\u001b[0m         sample_weight\u001b[39m=\u001b[39;49msample_weight,\n\u001b[0;32m    973\u001b[0m         check_input\u001b[39m=\u001b[39;49mcheck_input,\n\u001b[0;32m    974\u001b[0m     )\n\u001b[0;32m    975\u001b[0m     \u001b[39mreturn\u001b[39;00m \u001b[39mself\u001b[39m\n",
      "File \u001b[1;32mc:\\Users\\mlcra\\AppData\\Local\\Programs\\Orange\\lib\\site-packages\\sklearn\\tree\\_classes.py:458\u001b[0m, in \u001b[0;36mBaseDecisionTree.fit\u001b[1;34m(self, X, y, sample_weight, check_input)\u001b[0m\n\u001b[0;32m    447\u001b[0m \u001b[39melse\u001b[39;00m:\n\u001b[0;32m    448\u001b[0m     builder \u001b[39m=\u001b[39m BestFirstTreeBuilder(\n\u001b[0;32m    449\u001b[0m         splitter,\n\u001b[0;32m    450\u001b[0m         min_samples_split,\n\u001b[1;32m   (...)\u001b[0m\n\u001b[0;32m    455\u001b[0m         \u001b[39mself\u001b[39m\u001b[39m.\u001b[39mmin_impurity_decrease,\n\u001b[0;32m    456\u001b[0m     )\n\u001b[1;32m--> 458\u001b[0m builder\u001b[39m.\u001b[39;49mbuild(\u001b[39mself\u001b[39;49m\u001b[39m.\u001b[39;49mtree_, X, y, sample_weight)\n\u001b[0;32m    460\u001b[0m \u001b[39mif\u001b[39;00m \u001b[39mself\u001b[39m\u001b[39m.\u001b[39mn_outputs_ \u001b[39m==\u001b[39m \u001b[39m1\u001b[39m \u001b[39mand\u001b[39;00m is_classifier(\u001b[39mself\u001b[39m):\n\u001b[0;32m    461\u001b[0m     \u001b[39mself\u001b[39m\u001b[39m.\u001b[39mn_classes_ \u001b[39m=\u001b[39m \u001b[39mself\u001b[39m\u001b[39m.\u001b[39mn_classes_[\u001b[39m0\u001b[39m]\n",
      "\u001b[1;31mKeyboardInterrupt\u001b[0m: "
     ]
    }
   ],
   "source": [
    "ML_models = [\n",
    "        DecisionTreeClassifier(),\n",
    "        RandomForestClassifier(n_jobs=-1),\n",
    "        # GradientBoostingClassifier(),\n",
    "        # LogisticRegression(n_jobs=-1),\n",
    "]\n",
    "\n",
    "ML_neams = [\n",
    "        \"DecisionTreeClassifier\",\n",
    "        \"RandomForestClassifier\",\n",
    "        # \"GradientBoostingClassifier\",\n",
    "        # \"LogisticRegression\",\n",
    "]\n",
    "\n",
    "# Pour chaque dataset\n",
    "for train_set in tqdm(training_sets):\n",
    "    \n",
    "    # On charge le dataset\n",
    "    d = pd.read_csv(DATASET_DIRECTORY + train_set)\n",
    "\n",
    "    # On normalise les données\n",
    "    d[X_columns] = scaler.transform(d[X_columns])\n",
    "\n",
    "    print(d[y_column].head())\n",
    "\n",
    "    # Pour chaque modèle\n",
    "    for model in (ML_models):\n",
    "\n",
    "        # On entraîne le modèle\n",
    "        model.fit(d[X_columns], d[y_column])\n",
    "\n",
    "    # On supprime le dataset\n",
    "    del d"
   ]
  },
  {
   "cell_type": "code",
   "execution_count": 127,
   "id": "6116132e-02f0-4bac-aefb-2ba0bee924ab",
   "metadata": {},
   "outputs": [
    {
     "name": "stderr",
     "output_type": "stream",
     "text": [
      "100%|██████████| 2/2 [00:12<00:00,  6.17s/it]\n"
     ]
    }
   ],
   "source": [
    "y_test = []\n",
    "preds = {i:[] for i in range(len(ML_models))}\n",
    "for test_set in tqdm(test_sets):\n",
    "    d_test = pd.read_csv(DATASET_DIRECTORY + test_set)\n",
    "    d_test[X_columns] = scaler.transform(d_test[X_columns])\n",
    "    \n",
    "    y_test += list(d_test[y_column].values)\n",
    "    \n",
    "    for i in range(len(ML_models)):\n",
    "        model = ML_models[i]\n",
    "        y_pred = list(model.predict(d_test[X_columns]))\n",
    "        preds[i] = preds[i] + y_pred\n",
    "        "
   ]
  },
  {
   "cell_type": "code",
   "execution_count": 128,
   "id": "375dcbfb-2b20-4b37-8fbb-c9d68a6ac541",
   "metadata": {},
   "outputs": [
    {
     "name": "stdout",
     "output_type": "stream",
     "text": [
      "##### DecisionTreeClassifier (34 classes) #####\n",
      "accuracy_score:  0.9919694984417957\n",
      "recall_score:  0.8285072816643488\n",
      "precision_score:  0.8174407816479924\n",
      "f1_score:  0.8185581953657711\n",
      "\n",
      "\n",
      "\n",
      "##### RandomForestClassifier (34 classes) #####\n",
      "accuracy_score:  0.9917859320635604\n",
      "recall_score:  0.7562229609843071\n",
      "precision_score:  0.7041411955073251\n",
      "f1_score:  0.7074143686576185\n",
      "\n",
      "\n",
      "\n"
     ]
    }
   ],
   "source": [
    "from sklearn.metrics import accuracy_score, recall_score, precision_score, f1_score\n",
    "for k,v in preds.items():\n",
    "    y_pred = v\n",
    "    print(f\"##### {ML_neams[k]} (34 classes) #####\")\n",
    "    print('accuracy_score: ', accuracy_score(y_pred, y_test))\n",
    "    print('recall_score: ', recall_score(y_pred, y_test, average='macro'))\n",
    "    print('precision_score: ', precision_score(y_pred, y_test, average='macro'))\n",
    "    print('f1_score: ', f1_score(y_pred, y_test, average='macro'))\n",
    "    print()\n",
    "    print()\n",
    "    print()"
   ]
  },
  {
   "cell_type": "markdown",
   "id": "e2f643a8",
   "metadata": {},
   "source": [
    "# Results for classification 34 classes"
   ]
  },
  {
   "cell_type": "markdown",
   "id": "dcb6fe0a",
   "metadata": {},
   "source": [
    "##### LogisticRegression (34 classes) #####\n",
    "- accuracy_score:  0.8016639131709932\n",
    "- recall_score:  0.5854951774651348\n",
    "- precision_score:  0.48305324146988726\n",
    "- f1_score:  0.48966648273998686\n",
    "\n",
    "##### DecisionTreeClassifier (34 classes) #####\n",
    "- accuracy_score:  0.9920159175259472\n",
    "- recall_score:  0.8244818441920118\n",
    "- precision_score:  0.8205782334865411\n",
    "- f1_score:  0.8200383982988425\n",
    "\n",
    "##### RandomForestClassifier (34 classes) #####\n",
    "- accuracy_score:  0.9915897059351019\n",
    "- recall_score:  0.7620503146664692\n",
    "- precision_score:  0.7011582842714431\n",
    "- f1_score:  0.7057468323931881\n",
    "\n",
    "##### GradientBoostingClassifier (34 classes) #####\n",
    "- accuracy_score:  0.9888108907611253\n",
    "- recall_score:  0.7582318098632861\n",
    "- precision_score:  0.7223169808416247\n",
    "- f1_score:  0.7231863656996314\n",
    "\n",
    "##### AdaBoostClassifier (34 classes) #####\n",
    "- accuracy_score:  0.4407196646010174\n",
    "- recall_score:  0.41902247243947177\n",
    "- precision_score:  0.3750765477184141\n",
    "- f1_score:  0.3265605952381953\n",
    "\n",
    "##### SGDClassifier (34 classes) #####\n",
    "- accuracy_score:  0.7886454700248764\n",
    "- recall_score:  0.5132378715903361\n",
    "- precision_score:  0.42617099932129565\n",
    "- f1_score:  0.4299622886448148\n",
    "\n",
    "##### RidgeClassifier (34 classes) #####\n",
    "- accuracy_score:  0.7631740525759427\n",
    "- recall_score:  0.43010389536148935\n",
    "- precision_score:  0.349978545679562\n",
    "- f1_score:  0.32991209467439137\n",
    "\n",
    "##### PassiveAggressiveClassifier (34 classes) #####\n",
    "- accuracy_score:  0.7758717820497402\n",
    "- recall_score:  0.509216893964416\n",
    "- precision_score:  0.4269679598736629\n",
    "- f1_score:  0.4331352936302771\n",
    "\n",
    "##### Perceptron (34 classes) #####\n",
    "- accuracy_score:  0.7359091705120658\n",
    "- recall_score:  0.49828519884605005\n",
    "- precision_score:  0.4407204631508492\n",
    "- f1_score:  0.42571768601861915\n",
    "\n",
    "##### RidgeClassifierCV (34 classes) #####\n",
    "- accuracy_score:  0.7631360733252733\n",
    "- recall_score:  0.4300375882496944\n",
    "- precision_score:  0.34992014844272346\n",
    "- f1_score:  0.32990912274049855"
   ]
  },
  {
   "cell_type": "markdown",
   "id": "3958c6fa-6d05-48fb-a046-55e5843e4711",
   "metadata": {},
   "source": [
    "# Classification: 8 (7+1) classes"
   ]
  },
  {
   "cell_type": "code",
   "execution_count": 129,
   "id": "9208c899-8b57-4a3a-a2e7-94b057123536",
   "metadata": {},
   "outputs": [],
   "source": [
    "dict_7classes = {}\n",
    "dict_7classes['DDoS-RSTFINFlood'] = 'DDoS'\n",
    "dict_7classes['DDoS-PSHACK_Flood'] = 'DDoS'\n",
    "dict_7classes['DDoS-SYN_Flood'] = 'DDoS'\n",
    "dict_7classes['DDoS-UDP_Flood'] = 'DDoS'\n",
    "dict_7classes['DDoS-TCP_Flood'] = 'DDoS'\n",
    "dict_7classes['DDoS-ICMP_Flood'] = 'DDoS'\n",
    "dict_7classes['DDoS-SynonymousIP_Flood'] = 'DDoS'\n",
    "dict_7classes['DDoS-ACK_Fragmentation'] = 'DDoS'\n",
    "dict_7classes['DDoS-UDP_Fragmentation'] = 'DDoS'\n",
    "dict_7classes['DDoS-ICMP_Fragmentation'] = 'DDoS'\n",
    "dict_7classes['DDoS-SlowLoris'] = 'DDoS'\n",
    "dict_7classes['DDoS-HTTP_Flood'] = 'DDoS'\n",
    "\n",
    "dict_7classes['DoS-UDP_Flood'] = 'DoS'\n",
    "dict_7classes['DoS-SYN_Flood'] = 'DoS'\n",
    "dict_7classes['DoS-TCP_Flood'] = 'DoS'\n",
    "dict_7classes['DoS-HTTP_Flood'] = 'DoS'\n",
    "\n",
    "\n",
    "dict_7classes['Mirai-greeth_flood'] = 'Mirai'\n",
    "dict_7classes['Mirai-greip_flood'] = 'Mirai'\n",
    "dict_7classes['Mirai-udpplain'] = 'Mirai'\n",
    "\n",
    "dict_7classes['Recon-PingSweep'] = 'Recon'\n",
    "dict_7classes['Recon-OSScan'] = 'Recon'\n",
    "dict_7classes['Recon-PortScan'] = 'Recon'\n",
    "dict_7classes['VulnerabilityScan'] = 'Recon'\n",
    "dict_7classes['Recon-HostDiscovery'] = 'Recon'\n",
    "\n",
    "dict_7classes['DNS_Spoofing'] = 'Spoofing'\n",
    "dict_7classes['MITM-ArpSpoofing'] = 'Spoofing'\n",
    "\n",
    "dict_7classes['BenignTraffic'] = 'Benign'\n",
    "\n",
    "dict_7classes['BrowserHijacking'] = 'Web'\n",
    "dict_7classes['Backdoor_Malware'] = 'Web'\n",
    "dict_7classes['XSS'] = 'Web'\n",
    "dict_7classes['Uploading_Attack'] = 'Web'\n",
    "dict_7classes['SqlInjection'] = 'Web'\n",
    "dict_7classes['CommandInjection'] = 'Web'\n",
    "\n",
    "\n",
    "dict_7classes['DictionaryBruteForce'] = 'BruteForce'"
   ]
  },
  {
   "cell_type": "code",
   "execution_count": 130,
   "id": "4c1f697f-88d8-4ac4-8bc6-f1a8ac3794d5",
   "metadata": {},
   "outputs": [
    {
     "name": "stderr",
     "output_type": "stream",
     "text": [
      "100%|██████████| 8/8 [1:06:06<00:00, 495.85s/it]\n"
     ]
    }
   ],
   "source": [
    "ML_models = [\n",
    "        # DecisionTreeClassifier(),\n",
    "        RandomForestClassifier(n_jobs=-1),\n",
    "        GradientBoostingClassifier(),\n",
    "        # LogisticRegression(n_jobs=-1),\n",
    "]\n",
    "\n",
    "ML_neams = [\n",
    "        # \"DecisionTreeClassifier\",\n",
    "        \"RandomForestClassifier\",\n",
    "        \"GradientBoostingClassifier\",\n",
    "        # \"LogisticRegression\",\n",
    "]\n",
    "\n",
    "\n",
    "for train_set in tqdm(training_sets):\n",
    "    d = pd.read_csv(DATASET_DIRECTORY + train_set)\n",
    "    d[X_columns] = scaler.transform(d[X_columns])\n",
    "    new_y = [dict_7classes[k] for k in d[y_column]]\n",
    "    d[y_column] = new_y\n",
    "    \n",
    "    for model in (ML_models):\n",
    "        model.fit(d[X_columns], d[y_column])\n",
    "    del d"
   ]
  },
  {
   "cell_type": "code",
   "execution_count": 131,
   "id": "6b69c509-7666-45bd-9e11-52ecec0df8a8",
   "metadata": {},
   "outputs": [
    {
     "name": "stderr",
     "output_type": "stream",
     "text": [
      "100%|██████████| 2/2 [00:13<00:00,  6.85s/it]\n"
     ]
    }
   ],
   "source": [
    "y_test = []\n",
    "preds = {i:[] for i in range(len(ML_models))}\n",
    "for test_set in tqdm(test_sets):\n",
    "    d_test = pd.read_csv(DATASET_DIRECTORY + test_set)\n",
    "    d_test[X_columns] = scaler.transform(d_test[X_columns])\n",
    "    new_y = [dict_7classes[k] for k in d_test[y_column]]\n",
    "    d_test[y_column] = new_y\n",
    "    \n",
    "    y_test += list(d_test[y_column].values)\n",
    "    \n",
    "    for i in range(len(ML_models)):\n",
    "        model = ML_models[i]\n",
    "        y_pred = list(model.predict(d_test[X_columns]))\n",
    "        preds[i] = preds[i] + y_pred\n",
    "        "
   ]
  },
  {
   "cell_type": "code",
   "execution_count": 132,
   "id": "3e0a9702-63f5-4898-a8b0-2bf950fe881d",
   "metadata": {},
   "outputs": [
    {
     "name": "stdout",
     "output_type": "stream",
     "text": [
      "##### RandomForestClassifier (8 classes) #####\n",
      "accuracy_score =  0.9944550294022699\n",
      "recall_score =  0.8728695527711083\n",
      "precision_score =  0.7056110449239469\n",
      "f1_score =  0.7180407251186967\n",
      "\n",
      "\n",
      "\n",
      "##### GradientBoostingClassifier (8 classes) #####\n",
      "accuracy_score =  0.9946554754474695\n",
      "recall_score =  0.9040814776453021\n",
      "precision_score =  0.818092568562414\n",
      "f1_score =  0.8473350976774587\n",
      "\n",
      "\n",
      "\n"
     ]
    }
   ],
   "source": [
    "from sklearn.metrics import accuracy_score, recall_score, precision_score, f1_score\n",
    "for k,v in preds.items():\n",
    "    y_pred = v\n",
    "    print(f\"##### {ML_neams[k]} (8 classes) #####\")\n",
    "    print('accuracy_score = ', accuracy_score(y_pred, y_test))\n",
    "    print('recall_score = ', recall_score(y_pred, y_test, average='macro'))\n",
    "    print('precision_score = ', precision_score(y_pred, y_test, average='macro'))\n",
    "    print('f1_score = ', f1_score(y_pred, y_test, average='macro'))\n",
    "    print()\n",
    "    print()\n",
    "    print()"
   ]
  },
  {
   "cell_type": "markdown",
   "id": "98b31b38",
   "metadata": {},
   "source": [
    "# Results for classification 8 classes"
   ]
  },
  {
   "cell_type": "markdown",
   "id": "3f80f48a",
   "metadata": {},
   "source": [
    "##### DecisionTreeClassifier (8 classes) #####\n",
    "- accuracy_score =  0.9939887286023846\n",
    "- recall_score =  0.8211775275457525\n",
    "- precision_score =  0.8234005860868705\n",
    "- f1_score =  0.8222522645707806\n",
    "\n",
    "##### RandomForestClassifier (8 classes) #####\n",
    "- accuracy_score =  0.9944339298185647\n",
    "- recall_score =  0.9009198371610123\n",
    "- precision_score =  0.701561593137628\n",
    "- f1_score =  0.7103702473263263\n",
    "\n",
    "##### GradientBoostingClassifier (8 classes) #####\n",
    "- accuracy_score =  0.9946639152809515\n",
    "- recall_score =  0.9051566339711138\n",
    "- precision_score =  0.8182008967354992\n",
    "- f1_score =  0.8478305023003074\n",
    "\n",
    "##### LogisticRegression (8 classes) #####\n",
    "- accuracy_score =  0.8314523054460136\n",
    "- recall_score =  0.8285613319370242\n",
    "- precision_score =  0.5139777696307017\n",
    "- f1_score =  0.540448857067295"
   ]
  },
  {
   "cell_type": "markdown",
   "id": "a6ecac59-fc02-4198-9910-daf890da7a0a",
   "metadata": {},
   "source": [
    "# Classification: 2 (1+1) Classes"
   ]
  },
  {
   "cell_type": "code",
   "execution_count": 133,
   "id": "90ee4a99-d160-43bc-b2a0-06fa3f49e222",
   "metadata": {},
   "outputs": [],
   "source": [
    "dict_2classes = {}\n",
    "dict_2classes['DDoS-RSTFINFlood'] = 'Attack'\n",
    "dict_2classes['DDoS-PSHACK_Flood'] = 'Attack'\n",
    "dict_2classes['DDoS-SYN_Flood'] = 'Attack'\n",
    "dict_2classes['DDoS-UDP_Flood'] = 'Attack'\n",
    "dict_2classes['DDoS-TCP_Flood'] = 'Attack'\n",
    "dict_2classes['DDoS-ICMP_Flood'] = 'Attack'\n",
    "dict_2classes['DDoS-SynonymousIP_Flood'] = 'Attack'\n",
    "dict_2classes['DDoS-ACK_Fragmentation'] = 'Attack'\n",
    "dict_2classes['DDoS-UDP_Fragmentation'] = 'Attack'\n",
    "dict_2classes['DDoS-ICMP_Fragmentation'] = 'Attack'\n",
    "dict_2classes['DDoS-SlowLoris'] = 'Attack'\n",
    "dict_2classes['DDoS-HTTP_Flood'] = 'Attack'\n",
    "\n",
    "dict_2classes['DoS-UDP_Flood'] = 'Attack'\n",
    "dict_2classes['DoS-SYN_Flood'] = 'Attack'\n",
    "dict_2classes['DoS-TCP_Flood'] = 'Attack'\n",
    "dict_2classes['DoS-HTTP_Flood'] = 'Attack'\n",
    "\n",
    "\n",
    "dict_2classes['Mirai-greeth_flood'] = 'Attack'\n",
    "dict_2classes['Mirai-greip_flood'] = 'Attack'\n",
    "dict_2classes['Mirai-udpplain'] = 'Attack'\n",
    "\n",
    "dict_2classes['Recon-PingSweep'] = 'Attack'\n",
    "dict_2classes['Recon-OSScan'] = 'Attack'\n",
    "dict_2classes['Recon-PortScan'] = 'Attack'\n",
    "dict_2classes['VulnerabilityScan'] = 'Attack'\n",
    "dict_2classes['Recon-HostDiscovery'] = 'Attack'\n",
    "\n",
    "dict_2classes['DNS_Spoofing'] = 'Attack'\n",
    "dict_2classes['MITM-ArpSpoofing'] = 'Attack'\n",
    "\n",
    "dict_2classes['BenignTraffic'] = 'Benign'\n",
    "\n",
    "dict_2classes['BrowserHijacking'] = 'Attack'\n",
    "dict_2classes['Backdoor_Malware'] = 'Attack'\n",
    "dict_2classes['XSS'] = 'Attack'\n",
    "dict_2classes['Uploading_Attack'] = 'Attack'\n",
    "dict_2classes['SqlInjection'] = 'Attack'\n",
    "dict_2classes['CommandInjection'] = 'Attack'\n",
    "\n",
    "dict_2classes['DictionaryBruteForce'] = 'Attack'"
   ]
  },
  {
   "cell_type": "code",
   "execution_count": 134,
   "id": "506eae35-a310-4a34-8bcf-c99282ed3225",
   "metadata": {},
   "outputs": [
    {
     "name": "stderr",
     "output_type": "stream",
     "text": [
      "100%|██████████| 8/8 [08:31<00:00, 63.88s/it]\n"
     ]
    }
   ],
   "source": [
    "ML_models = [\n",
    "        # DecisionTreeClassifier(),\n",
    "        RandomForestClassifier(n_jobs=-1),\n",
    "        GradientBoostingClassifier(),\n",
    "        # LogisticRegression(n_jobs=-1),\n",
    "]\n",
    "\n",
    "ML_neams = [\n",
    "        # \"DecisionTreeClassifier\",\n",
    "        \"RandomForestClassifier\",\n",
    "        \"GradientBoostingClassifier\",\n",
    "        # \"LogisticRegression\",\n",
    "]\n",
    "\n",
    "\n",
    "for train_set in tqdm(training_sets):\n",
    "    d = pd.read_csv(DATASET_DIRECTORY + train_set)\n",
    "    d[X_columns] = scaler.transform(d[X_columns])\n",
    "    new_y = [dict_2classes[k] for k in d[y_column]]\n",
    "    d[y_column] = new_y\n",
    "    \n",
    "    for model in (ML_models):\n",
    "        model.fit(d[X_columns], d[y_column])\n",
    "    del d"
   ]
  },
  {
   "cell_type": "code",
   "execution_count": 135,
   "id": "b07aa379-ec7e-4651-ab5a-6845ae249132",
   "metadata": {},
   "outputs": [
    {
     "name": "stderr",
     "output_type": "stream",
     "text": [
      "100%|██████████| 2/2 [00:04<00:00,  2.20s/it]\n"
     ]
    }
   ],
   "source": [
    "y_test = []\n",
    "preds = {i:[] for i in range(len(ML_models))}\n",
    "for test_set in tqdm(test_sets):\n",
    "    d_test = pd.read_csv(DATASET_DIRECTORY + test_set)\n",
    "    d_test[X_columns] = scaler.transform(d_test[X_columns])\n",
    "    new_y = [dict_2classes[k] for k in d_test[y_column]]\n",
    "    d_test[y_column] = new_y\n",
    "    \n",
    "    y_test += list(d_test[y_column].values)\n",
    "    \n",
    "    for i in range(len(ML_models)):\n",
    "        model = ML_models[i]\n",
    "        y_pred = list(model.predict(d_test[X_columns]))\n",
    "        preds[i] = preds[i] + y_pred\n",
    "        "
   ]
  },
  {
   "cell_type": "code",
   "execution_count": 136,
   "id": "caabf4fd-097d-4db2-847a-0dcd87144d6f",
   "metadata": {},
   "outputs": [
    {
     "name": "stdout",
     "output_type": "stream",
     "text": [
      "##### GradientBoostingClassifier (2 classes) #####\n",
      "accuracy_score:  0.9963455521022571\n",
      "recall_score:  0.9564042322752894\n",
      "precision_score:  0.9662941895334612\n",
      "f1_score:  0.9612933295489201\n",
      "\n",
      "\n",
      "\n",
      "##### LogisticRegression (2 classes) #####\n",
      "accuracy_score:  0.9888741895122409\n",
      "recall_score:  0.8922684294547429\n",
      "precision_score:  0.8609859484895439\n",
      "f1_score:  0.8759404050008108\n",
      "\n",
      "\n",
      "\n"
     ]
    }
   ],
   "source": [
    "from sklearn.metrics import accuracy_score, recall_score, precision_score, f1_score\n",
    "for k,v in preds.items():\n",
    "    y_pred = v\n",
    "    print(f\"##### {ML_neams[k]} (2 classes) #####\")\n",
    "    print('accuracy_score: ', accuracy_score(y_pred, y_test))\n",
    "    print('recall_score: ', recall_score(y_pred, y_test, average='macro'))\n",
    "    print('precision_score: ', precision_score(y_pred, y_test, average='macro'))\n",
    "    print('f1_score: ', f1_score(y_pred, y_test, average='macro'))\n",
    "    print()\n",
    "    print()\n",
    "    print()"
   ]
  },
  {
   "cell_type": "markdown",
   "id": "7a261309",
   "metadata": {},
   "source": [
    "# Results for classification 2 classes"
   ]
  },
  {
   "cell_type": "markdown",
   "id": "a94e9aa6",
   "metadata": {},
   "source": [
    "##### DecisionTreeClassifier (2 classes) #####\n",
    "- accuracy_score:  0.995653485756726\n",
    "- recall_score:  0.9543082158556345\n",
    "- precision_score:  0.9524318184616076\n",
    "- f1_score:  0.9533679707468838\n",
    "\n",
    "##### RandomForestClassifier (2 classes) #####\n",
    "- accuracy_score:  0.9968013031102896\n",
    "- recall_score:  0.9654937646506515\n",
    "- precision_score:  0.9660544448649474\n",
    "- f1_score:  0.9657739270096768\n",
    "\n",
    "##### GradientBoostingClassifier (2 classes) #####\n",
    "- accuracy_score:  0.9963455521022571\n",
    "- recall_score:  0.9564042322752894\n",
    "- precision_score:  0.9662941895334612\n",
    "- f1_score:  0.9612933295489201\n",
    "\n",
    "##### LogisticRegression (2 classes) #####\n",
    "- accuracy_score:  0.9888741895122409\n",
    "- recall_score:  0.8922684294547429\n",
    "- precision_score:  0.8609859484895439\n",
    "- f1_score:  0.8759404050008108"
   ]
  },
  {
   "cell_type": "markdown",
   "id": "30e96d1a",
   "metadata": {},
   "source": [
    "# Specific attack model training"
   ]
  },
  {
   "cell_type": "code",
   "execution_count": 7,
   "id": "b688ce7f",
   "metadata": {
    "notebookRunGroups": {
     "groupValue": "1"
    }
   },
   "outputs": [
    {
     "name": "stdout",
     "output_type": "stream",
     "text": [
      "{'dict_2classes': {'DDoS-RSTFINFlood': 'DDoS', 'DDoS-PSHACK_Flood': 'DDoS', 'DDoS-SYN_Flood': 'DDoS', 'DDoS-UDP_Flood': 'DDoS', 'DDoS-TCP_Flood': 'DDoS', 'DDoS-ICMP_Flood': 'DDoS', 'DDoS-SynonymousIP_Flood': 'DDoS', 'DDoS-ACK_Fragmentation': 'DDoS', 'DDoS-UDP_Fragmentation': 'DDoS', 'DDoS-ICMP_Fragmentation': 'DDoS', 'DDoS-SlowLoris': 'DDoS', 'DDoS-HTTP_Flood': 'DDoS', 'DoS-UDP_Flood': 'Non-DDoS', 'DoS-SYN_Flood': 'Non-DDoS', 'DoS-TCP_Flood': 'Non-DDoS', 'DoS-HTTP_Flood': 'Non-DDoS', 'Mirai-greeth_flood': 'Non-DDoS', 'Mirai-greip_flood': 'Non-DDoS', 'Mirai-udpplain': 'Non-DDoS', 'Recon-PingSweep': 'Non-DDoS', 'Recon-OSScan': 'Non-DDoS', 'Recon-PortScan': 'Non-DDoS', 'VulnerabilityScan': 'Non-DDoS', 'Recon-HostDiscovery': 'Non-DDoS', 'DNS_Spoofing': 'Non-DDoS', 'MITM-ArpSpoofing': 'Non-DDoS', 'BenignTraffic': 'Non-DDoS', 'BrowserHijacking': 'Non-DDoS', 'Backdoor_Malware': 'Non-DDoS', 'XSS': 'Non-DDoS', 'Uploading_Attack': 'Non-DDoS', 'SqlInjection': 'Non-DDoS', 'CommandInjection': 'Non-DDoS', 'DictionaryBruteForce': 'Non-DDoS'}, 'type': 'DDoS'}\n"
     ]
    }
   ],
   "source": [
    "# Define the 2 classes for each attack type to create a specific model for each attack type\n",
    "# DDoS :\n",
    "dict_2classes_DDoS = {'DDoS-RSTFINFlood': 'DDoS', 'DDoS-PSHACK_Flood': 'DDoS', 'DDoS-SYN_Flood': 'DDoS', 'DDoS-UDP_Flood': 'DDoS', 'DDoS-TCP_Flood': 'DDoS', 'DDoS-ICMP_Flood': 'DDoS', 'DDoS-SynonymousIP_Flood': 'DDoS', 'DDoS-ACK_Fragmentation': 'DDoS', 'DDoS-UDP_Fragmentation': 'DDoS', 'DDoS-ICMP_Fragmentation': 'DDoS', 'DDoS-SlowLoris': 'DDoS', 'DDoS-HTTP_Flood': 'DDoS',\n",
    "                      'DoS-UDP_Flood': 'Non-DDoS', 'DoS-SYN_Flood': 'Non-DDoS', 'DoS-TCP_Flood': 'Non-DDoS', 'DoS-HTTP_Flood': 'Non-DDoS', \n",
    "                      'Mirai-greeth_flood': 'Non-DDoS', 'Mirai-greip_flood': 'Non-DDoS', 'Mirai-udpplain': 'Non-DDoS', \n",
    "                      'Recon-PingSweep': 'Non-DDoS', 'Recon-OSScan': 'Non-DDoS', 'Recon-PortScan': 'Non-DDoS', 'VulnerabilityScan': 'Non-DDoS', 'Recon-HostDiscovery': 'Non-DDoS', \n",
    "                      'DNS_Spoofing': 'Non-DDoS', 'MITM-ArpSpoofing': 'Non-DDoS', \n",
    "                      'BenignTraffic': 'Non-DDoS', \n",
    "                      'BrowserHijacking': 'Non-DDoS', 'Backdoor_Malware': 'Non-DDoS', 'XSS': 'Non-DDoS', 'Uploading_Attack': 'Non-DDoS', 'SqlInjection': 'Non-DDoS', 'CommandInjection': 'Non-DDoS', \n",
    "                      'DictionaryBruteForce': 'Non-DDoS'}\n",
    "\n",
    "# DoS :\n",
    "dict_2classes_DoS = {'DDoS-RSTFINFlood': 'Non-DoS', 'DDoS-PSHACK_Flood': 'Non-DoS', 'DDoS-SYN_Flood': 'Non-DoS', 'DDoS-UDP_Flood': 'Non-DoS', 'DDoS-TCP_Flood': 'Non-DoS', 'DDoS-ICMP_Flood': 'Non-DoS', 'DDoS-SynonymousIP_Flood': 'Non-DoS', 'DDoS-ACK_Fragmentation': 'Non-DoS', 'DDoS-UDP_Fragmentation': 'Non-DoS', 'DDoS-ICMP_Fragmentation': 'Non-DoS', 'DDoS-SlowLoris': 'Non-DoS', 'DDoS-HTTP_Flood': 'Non-DoS',\n",
    "                      'DoS-UDP_Flood': 'DoS', 'DoS-SYN_Flood': 'DoS', 'DoS-TCP_Flood': 'DoS', 'DoS-HTTP_Flood': 'DoS', \n",
    "                      'Mirai-greeth_flood': 'Non-DoS', 'Mirai-greip_flood': 'Non-DoS', 'Mirai-udpplain': 'Non-DoS', \n",
    "                      'Recon-PingSweep': 'Non-DoS', 'Recon-OSScan': 'Non-DoS', 'Recon-PortScan': 'Non-DoS', 'VulnerabilityScan': 'Non-DoS', 'Recon-HostDiscovery': 'Non-DoS', \n",
    "                      'DNS_Spoofing': 'Non-DoS', 'MITM-ArpSpoofing': 'Non-DoS', \n",
    "                      'BenignTraffic': 'Non-DoS', \n",
    "                      'BrowserHijacking': 'Non-DoS', 'Backdoor_Malware': 'Non-DoS', 'XSS': 'Non-DoS', 'Uploading_Attack': 'Non-DoS', 'SqlInjection': 'Non-DoS', 'CommandInjection': 'Non-DoS', \n",
    "                      'DictionaryBruteForce': 'Non-DoS'}\n",
    "\n",
    "# Mirai :\n",
    "dict_2classes_Mirai = {'DDoS-RSTFINFlood': 'Non-Mirai', 'DDoS-PSHACK_Flood': 'Non-Mirai', 'DDoS-SYN_Flood': 'Non-Mirai', 'DDoS-UDP_Flood': 'Non-Mirai', 'DDoS-TCP_Flood': 'Non-Mirai', 'DDoS-ICMP_Flood': 'Non-Mirai', 'DDoS-SynonymousIP_Flood': 'Non-Mirai', 'DDoS-ACK_Fragmentation': 'Non-Mirai', 'DDoS-UDP_Fragmentation': 'Non-Mirai', 'DDoS-ICMP_Fragmentation': 'Non-Mirai', 'DDoS-SlowLoris': 'Non-Mirai', 'DDoS-HTTP_Flood': 'Non-Mirai',\n",
    "                      'DoS-UDP_Flood': 'Non-Mirai', 'DoS-SYN_Flood': 'Non-Mirai', 'DoS-TCP_Flood': 'Non-Mirai', 'DoS-HTTP_Flood': 'Non-Mirai', \n",
    "                      'Mirai-greeth_flood': 'Mirai', 'Mirai-greip_flood': 'Mirai', 'Mirai-udpplain': 'Mirai', \n",
    "                      'Recon-PingSweep': 'Non-Mirai', 'Recon-OSScan': 'Non-Mirai', 'Recon-PortScan': 'Non-Mirai', 'VulnerabilityScan': 'Non-Mirai', 'Recon-HostDiscovery': 'Non-Mirai', \n",
    "                      'DNS_Spoofing': 'Non-Mirai', 'MITM-ArpSpoofing': 'Non-Mirai', \n",
    "                      'BenignTraffic': 'Non-Mirai', \n",
    "                      'BrowserHijacking': 'Non-Mirai', 'Backdoor_Malware': 'Non-Mirai', 'XSS': 'Non-Mirai', 'Uploading_Attack': 'Non-Mirai', 'SqlInjection': 'Non-Mirai', 'CommandInjection': 'Non-Mirai', \n",
    "                      'DictionaryBruteForce': 'Non-Mirai'}\n",
    "\n",
    "# Recon :\n",
    "dict_2classes_Recon = {'DDoS-RSTFINFlood': 'Non-Recon', 'DDoS-PSHACK_Flood': 'Non-Recon', 'DDoS-SYN_Flood': 'Non-Recon', 'DDoS-UDP_Flood': 'Non-Recon', 'DDoS-TCP_Flood': 'Non-Recon', 'DDoS-ICMP_Flood': 'Non-Recon', 'DDoS-SynonymousIP_Flood': 'Non-Recon', 'DDoS-ACK_Fragmentation': 'Non-Recon', 'DDoS-UDP_Fragmentation': 'Non-Recon', 'DDoS-ICMP_Fragmentation': 'Non-Recon', 'DDoS-SlowLoris': 'Non-Recon', 'DDoS-HTTP_Flood': 'Non-Recon',\n",
    "                      'DoS-UDP_Flood': 'Non-Recon', 'DoS-SYN_Flood': 'Non-Recon', 'DoS-TCP_Flood': 'Non-Recon', 'DoS-HTTP_Flood': 'Non-Recon', \n",
    "                      'Mirai-greeth_flood': 'Non-Recon', 'Mirai-greip_flood': 'Non-Recon', 'Mirai-udpplain': 'Non-Recon', \n",
    "                      'Recon-PingSweep': 'Recon', 'Recon-OSScan': 'Recon', 'Recon-PortScan': 'Recon', 'VulnerabilityScan': 'Recon', 'Recon-HostDiscovery': 'Recon', \n",
    "                      'DNS_Spoofing': 'Non-Recon', 'MITM-ArpSpoofing': 'Non-Recon', \n",
    "                      'BenignTraffic': 'Non-Recon', \n",
    "                      'BrowserHijacking': 'Non-Recon', 'Backdoor_Malware': 'Non-Recon', 'XSS': 'Non-Recon', 'Uploading_Attack': 'Non-Recon', 'SqlInjection': 'Non-Recon', 'CommandInjection': 'Non-Recon', \n",
    "                      'DictionaryBruteForce': 'Non-Recon'}\n",
    "\n",
    "# Spoofing :\n",
    "dict_2classes_Spoofing = {'DDoS-RSTFINFlood': 'Non-Spoofing', 'DDoS-PSHACK_Flood': 'Non-Spoofing', 'DDoS-SYN_Flood': 'Non-Spoofing', 'DDoS-UDP_Flood': 'Non-Spoofing', 'DDoS-TCP_Flood': 'Non-Spoofing', 'DDoS-ICMP_Flood': 'Non-Spoofing', 'DDoS-SynonymousIP_Flood': 'Non-Spoofing', 'DDoS-ACK_Fragmentation': 'Non-Spoofing', 'DDoS-UDP_Fragmentation': 'Non-Spoofing', 'DDoS-ICMP_Fragmentation': 'Non-Spoofing', 'DDoS-SlowLoris': 'Non-Spoofing', 'DDoS-HTTP_Flood': 'Non-Spoofing',\n",
    "                      'DoS-UDP_Flood': 'Non-Spoofing', 'DoS-SYN_Flood': 'Non-Spoofing', 'DoS-TCP_Flood': 'Non-Spoofing', 'DoS-HTTP_Flood': 'Non-Spoofing', \n",
    "                      'Mirai-greeth_flood': 'Non-Spoofing', 'Mirai-greip_flood': 'Non-Spoofing', 'Mirai-udpplain': 'Non-Spoofing', \n",
    "                      'Recon-PingSweep': 'Non-Spoofing', 'Recon-OSScan': 'Non-Spoofing', 'Recon-PortScan': 'Non-Spoofing', 'VulnerabilityScan': 'Non-Spoofing', 'Recon-HostDiscovery': 'Non-Spoofing', \n",
    "                      'DNS_Spoofing': 'Spoofing', 'MITM-ArpSpoofing': 'Spoofing', \n",
    "                      'BenignTraffic': 'Non-Spoofing', \n",
    "                      'BrowserHijacking': 'Non-Spoofing', 'Backdoor_Malware': 'Non-Spoofing', 'XSS': 'Non-Spoofing', 'Uploading_Attack': 'Non-Spoofing', 'SqlInjection': 'Non-Spoofing', 'CommandInjection': 'Non-Spoofing', \n",
    "                      'DictionaryBruteForce': 'Non-Spoofing'}\n",
    "\n",
    "# Benign :\n",
    "dict_2classes_Benign = {'DDoS-RSTFINFlood': 'Non-Benign', 'DDoS-PSHACK_Flood': 'Non-Benign', 'DDoS-SYN_Flood': 'Non-Benign', 'DDoS-UDP_Flood': 'Non-Benign', 'DDoS-TCP_Flood': 'Non-Benign', 'DDoS-ICMP_Flood': 'Non-Benign', 'DDoS-SynonymousIP_Flood': 'Non-Benign', 'DDoS-ACK_Fragmentation': 'Non-Benign', 'DDoS-UDP_Fragmentation': 'Non-Benign', 'DDoS-ICMP_Fragmentation': 'Non-Benign', 'DDoS-SlowLoris': 'Non-Benign', 'DDoS-HTTP_Flood': 'Non-Benign',\n",
    "                      'DoS-UDP_Flood': 'Non-Benign', 'DoS-SYN_Flood': 'Non-Benign', 'DoS-TCP_Flood': 'Non-Benign', 'DoS-HTTP_Flood': 'Non-Benign', \n",
    "                      'Mirai-greeth_flood': 'Non-Benign', 'Mirai-greip_flood': 'Non-Benign', 'Mirai-udpplain': 'Non-Benign', \n",
    "                      'Recon-PingSweep': 'Non-Benign', 'Recon-OSScan': 'Non-Benign', 'Recon-PortScan': 'Non-Benign', 'VulnerabilityScan': 'Non-Benign', 'Recon-HostDiscovery': 'Non-Benign', \n",
    "                      'DNS_Spoofing': 'Non-Benign', 'MITM-ArpSpoofing': 'Non-Benign', \n",
    "                      'BenignTraffic': 'Benign', \n",
    "                      'BrowserHijacking': 'Non-Benign', 'Backdoor_Malware': 'Non-Benign', 'XSS': 'Non-Benign', 'Uploading_Attack': 'Non-Benign', 'SqlInjection': 'Non-Benign', 'CommandInjection': 'Non-Benign', \n",
    "                      'DictionaryBruteForce': 'Non-Benign'}\n",
    "\n",
    "# Web :\n",
    "dict_2classes_Web = {'DDoS-RSTFINFlood': 'Non-Web', 'DDoS-PSHACK_Flood': 'Non-Web', 'DDoS-SYN_Flood': 'Non-Web', 'DDoS-UDP_Flood': 'Non-Web', 'DDoS-TCP_Flood': 'Non-Web', 'DDoS-ICMP_Flood': 'Non-Web', 'DDoS-SynonymousIP_Flood': 'Non-Web', 'DDoS-ACK_Fragmentation': 'Non-Web', 'DDoS-UDP_Fragmentation': 'Non-Web', 'DDoS-ICMP_Fragmentation': 'Non-Web', 'DDoS-SlowLoris': 'Non-Web', 'DDoS-HTTP_Flood': 'Non-Web',\n",
    "                      'DoS-UDP_Flood': 'Non-Web', 'DoS-SYN_Flood': 'Non-Web', 'DoS-TCP_Flood': 'Non-Web', 'DoS-HTTP_Flood': 'Non-Web', \n",
    "                      'Mirai-greeth_flood': 'Non-Web', 'Mirai-greip_flood': 'Non-Web', 'Mirai-udpplain': 'Non-Web', \n",
    "                      'Recon-PingSweep': 'Non-Web', 'Recon-OSScan': 'Non-Web', 'Recon-PortScan': 'Non-Web', 'VulnerabilityScan': 'Non-Web', 'Recon-HostDiscovery': 'Non-Web', \n",
    "                      'DNS_Spoofing': 'Non-Web', 'MITM-ArpSpoofing': 'Non-Web', \n",
    "                      'BenignTraffic': 'Non-Web', \n",
    "                      'BrowserHijacking': 'Web', 'Backdoor_Malware': 'Web', 'XSS': 'Web', 'Uploading_Attack': 'Web', 'SqlInjection': 'Web', 'CommandInjection': 'Web', \n",
    "                      'DictionaryBruteForce': 'Non-Web'}\n",
    "\n",
    "# BruteForce :\n",
    "dict_2classes_BruteForce = {'DDoS-RSTFINFlood': 'Non-BruteForce', 'DDoS-PSHACK_Flood': 'Non-BruteForce', 'DDoS-SYN_Flood': 'Non-BruteForce', 'DDoS-UDP_Flood': 'Non-BruteForce', 'DDoS-TCP_Flood': 'Non-BruteForce', 'DDoS-ICMP_Flood': 'Non-BruteForce', 'DDoS-SynonymousIP_Flood': 'Non-BruteForce', 'DDoS-ACK_Fragmentation': 'Non-BruteForce', 'DDoS-UDP_Fragmentation': 'Non-BruteForce', 'DDoS-ICMP_Fragmentation': 'Non-BruteForce', 'DDoS-SlowLoris': 'Non-BruteForce', 'DDoS-HTTP_Flood': 'Non-BruteForce',\n",
    "                      'DoS-UDP_Flood': 'Non-BruteForce', 'DoS-SYN_Flood': 'Non-BruteForce', 'DoS-TCP_Flood': 'Non-BruteForce', 'DoS-HTTP_Flood': 'Non-BruteForce', \n",
    "                      'Mirai-greeth_flood': 'Non-BruteForce', 'Mirai-greip_flood': 'Non-BruteForce', 'Mirai-udpplain': 'Non-BruteForce', \n",
    "                      'Recon-PingSweep': 'Non-BruteForce', 'Recon-OSScan': 'Non-BruteForce', 'Recon-PortScan': 'Non-BruteForce', 'VulnerabilityScan': 'Non-BruteForce', 'Recon-HostDiscovery': 'Non-BruteForce', \n",
    "                      'DNS_Spoofing': 'Non-BruteForce', 'MITM-ArpSpoofing': 'Non-BruteForce', \n",
    "                      'BenignTraffic': 'Non-BruteForce', \n",
    "                      'BrowserHijacking': 'Non-BruteForce', 'Backdoor_Malware': 'Non-BruteForce', 'XSS': 'Non-BruteForce', 'Uploading_Attack': 'Non-BruteForce', 'SqlInjection': 'Non-BruteForce', 'CommandInjection': 'Non-BruteForce', \n",
    "                      'DictionaryBruteForce': 'BruteForce'}\n",
    "\n",
    "dict_2classes = [{\"dict_2classes\": dict_2classes_DDoS, \"type\": \"DDoS\"}, {\"dict_2classes\": dict_2classes_DoS, \"type\": \"DoS\"}, {\"dict_2classes\": dict_2classes_Mirai, \"type\": \"Mirai\"}, {\"dict_2classes\": dict_2classes_Recon, \"type\": \"Recon\"}, {\"dict_2classes\": dict_2classes_Spoofing, \"type\": \"Spoofing\"}, {\"dict_2classes\": dict_2classes_Benign, \"type\": \"Benign\"}, {\"dict_2classes\": dict_2classes_Web, \"type\": \"Web\"}, {\"dict_2classes\": dict_2classes_BruteForce, \"type\": \"BruteForce\"}]\n",
    "print(dict_2classes[0])"
   ]
  },
  {
   "cell_type": "code",
   "execution_count": 8,
   "id": "dc9f2faf",
   "metadata": {
    "notebookRunGroups": {
     "groupValue": "1"
    }
   },
   "outputs": [
    {
     "name": "stdout",
     "output_type": "stream",
     "text": [
      "##### DDoS (2 classes) #####\n",
      "\n",
      "\n"
     ]
    },
    {
     "name": "stderr",
     "output_type": "stream",
     "text": [
      "100%|██████████| 135/135 [06:53<00:00,  3.06s/it]\n",
      "100%|██████████| 34/34 [00:47<00:00,  1.39s/it]\n"
     ]
    },
    {
     "name": "stdout",
     "output_type": "stream",
     "text": [
      "##### DecisionTreeClassifier DDoS (2 classes) #####\n",
      "accuracy_score:  0.9995984588634549\n",
      "recall_score:  0.9994938784073801\n",
      "precision_score:  0.999492544786964\n",
      "f1_score:  0.9994932115945829\n",
      "\n",
      "\n",
      "\n",
      "##### DoS (2 classes) #####\n",
      "\n",
      "\n"
     ]
    },
    {
     "name": "stderr",
     "output_type": "stream",
     "text": [
      "100%|██████████| 135/135 [04:07<00:00,  1.83s/it]\n",
      "100%|██████████| 34/34 [00:46<00:00,  1.38s/it]\n"
     ]
    },
    {
     "name": "stdout",
     "output_type": "stream",
     "text": [
      "##### DecisionTreeClassifier DoS (2 classes) #####\n",
      "accuracy_score:  0.9998533871958086\n",
      "recall_score:  0.999734935392105\n",
      "precision_score:  0.9997534472254663\n",
      "f1_score:  0.9997441910222378\n",
      "\n",
      "\n",
      "\n",
      "##### Mirai (2 classes) #####\n",
      "\n",
      "\n"
     ]
    },
    {
     "name": "stderr",
     "output_type": "stream",
     "text": [
      "100%|██████████| 135/135 [05:26<00:00,  2.42s/it]\n",
      "100%|██████████| 34/34 [00:47<00:00,  1.39s/it]\n"
     ]
    },
    {
     "name": "stdout",
     "output_type": "stream",
     "text": [
      "##### DecisionTreeClassifier Mirai (2 classes) #####\n",
      "accuracy_score:  0.9999609290416271\n",
      "recall_score:  0.9998077545615813\n",
      "precision_score:  0.9998254662909732\n",
      "f1_score:  0.9998166102481232\n",
      "\n",
      "\n",
      "\n",
      "##### Recon (2 classes) #####\n",
      "\n",
      "\n"
     ]
    },
    {
     "name": "stderr",
     "output_type": "stream",
     "text": [
      "100%|██████████| 135/135 [07:05<00:00,  3.15s/it]\n",
      "100%|██████████| 34/34 [00:47<00:00,  1.40s/it]\n"
     ]
    },
    {
     "name": "stdout",
     "output_type": "stream",
     "text": [
      "##### DecisionTreeClassifier Recon (2 classes) #####\n",
      "accuracy_score:  0.9969604922012336\n",
      "recall_score:  0.8999832346191019\n",
      "precision_score:  0.8981810623023343\n",
      "f1_score:  0.8990800783175715\n",
      "\n",
      "\n",
      "\n",
      "##### Spoofing (2 classes) #####\n",
      "\n",
      "\n"
     ]
    },
    {
     "name": "stderr",
     "output_type": "stream",
     "text": [
      "100%|██████████| 135/135 [04:33<00:00,  2.02s/it]\n",
      "100%|██████████| 34/34 [00:47<00:00,  1.39s/it]\n"
     ]
    },
    {
     "name": "stdout",
     "output_type": "stream",
     "text": [
      "##### DecisionTreeClassifier Spoofing (2 classes) #####\n",
      "accuracy_score:  0.9962889359266263\n",
      "recall_score:  0.9057595694217162\n",
      "precision_score:  0.9169927923623553\n",
      "f1_score:  0.9112976416738859\n",
      "\n",
      "\n",
      "\n",
      "##### Benign (2 classes) #####\n",
      "\n",
      "\n"
     ]
    },
    {
     "name": "stderr",
     "output_type": "stream",
     "text": [
      "100%|██████████| 135/135 [05:07<00:00,  2.28s/it]\n",
      "100%|██████████| 34/34 [00:46<00:00,  1.38s/it]\n"
     ]
    },
    {
     "name": "stdout",
     "output_type": "stream",
     "text": [
      "##### DecisionTreeClassifier Benign (2 classes) #####\n",
      "accuracy_score:  0.9957698917840835\n",
      "recall_score:  0.9534527451598984\n",
      "precision_score:  0.9546202621998258\n",
      "f1_score:  0.9540357131744854\n",
      "\n",
      "\n",
      "\n",
      "##### Web (2 classes) #####\n",
      "\n",
      "\n"
     ]
    },
    {
     "name": "stderr",
     "output_type": "stream",
     "text": [
      "100%|██████████| 135/135 [06:05<00:00,  2.71s/it]\n",
      "100%|██████████| 34/34 [00:46<00:00,  1.38s/it]\n"
     ]
    },
    {
     "name": "stdout",
     "output_type": "stream",
     "text": [
      "##### DecisionTreeClassifier Web (2 classes) #####\n",
      "accuracy_score:  0.9993841488541619\n",
      "recall_score:  0.7114222214878461\n",
      "precision_score:  0.7366239492943202\n",
      "f1_score:  0.7233130349957493\n",
      "\n",
      "\n",
      "\n",
      "##### BruteForce (2 classes) #####\n",
      "\n",
      "\n"
     ]
    },
    {
     "name": "stderr",
     "output_type": "stream",
     "text": [
      "100%|██████████| 135/135 [05:17<00:00,  2.35s/it]\n",
      "100%|██████████| 34/34 [00:51<00:00,  1.51s/it]\n"
     ]
    },
    {
     "name": "stdout",
     "output_type": "stream",
     "text": [
      "##### DecisionTreeClassifier BruteForce (2 classes) #####\n",
      "accuracy_score:  0.9997076447842543\n",
      "recall_score:  0.7471431943606167\n",
      "precision_score:  0.7960909409847152\n",
      "f1_score:  0.7694098832870624\n",
      "\n",
      "\n",
      "\n"
     ]
    }
   ],
   "source": [
    "ML_models = [\n",
    "        DecisionTreeClassifier(),\n",
    "        # RandomForestClassifier(n_jobs=-1),\n",
    "        # GradientBoostingClassifier(),\n",
    "        # LogisticRegression(n_jobs=-1),\n",
    "]\n",
    "\n",
    "ML_neams = [\n",
    "        \"DecisionTreeClassifier\",\n",
    "        # \"RandomForestClassifier\",\n",
    "        # \"GradientBoostingClassifier\",\n",
    "        # \"LogisticRegression\",\n",
    "]\n",
    "\n",
    "# Itération sur chaque objet du dictionnaire\n",
    "for dict_item in dict_2classes:\n",
    "        print(f\"##### {dict_item['type']} (2 classes) #####\")\n",
    "        print()\n",
    "        print()\n",
    "        # Extraire le dictionnaire dict_2classes et le type associé\n",
    "        dict_2classes = dict_item[\"dict_2classes\"]\n",
    "        type_name = dict_item[\"type\"]\n",
    "\n",
    "        # For each dataset\n",
    "        for train_set in tqdm(training_sets):\n",
    "        \n",
    "                # Load the dataset in memory\n",
    "                d = pd.read_csv(DATASET_DIRECTORY + train_set)\n",
    "\n",
    "                # Normalize the data\n",
    "                d[X_columns] = scaler.transform(d[X_columns])\n",
    "\n",
    "                # Update the labels of the target variable\n",
    "                new_y = [dict_2classes[k] for k in d[y_column]]\n",
    "                d[y_column] = new_y\n",
    "                \n",
    "                # For each model\n",
    "                for model in (ML_models):\n",
    "\n",
    "                        # Train the model\n",
    "                        model.fit(d[X_columns], d[y_column])\n",
    "\n",
    "                # Delete the dataset from memory\n",
    "                del d\n",
    "\n",
    "        # Initialisation d'une liste pour stocker les vraies valeurs de la variable cible (classe) pour l'ensemble de test.\n",
    "        y_test = []\n",
    "\n",
    "        # Initialisation d'un dictionnaire pour stocker les prédictions de chaque modèle.\n",
    "        # Les clés du dictionnaire sont les indices des modèles.\n",
    "        preds = {i: [] for i in range(len(ML_models))}\n",
    "\n",
    "        # Itération sur chaque ensemble de test contenu dans la liste test_sets.\n",
    "        for test_set in tqdm(test_sets):\n",
    "                # Chargement d'un fichier CSV correspondant à l'ensemble de test actuel dans un DataFrame pandas d_test.\n",
    "                d_test = pd.read_csv(DATASET_DIRECTORY + test_set)\n",
    "\n",
    "                # Mise à l'échelle des colonnes d'entités de d_test à l'aide d'un objet scaler.\n",
    "                # Cela permet de mettre à l'échelle les données de test de la même manière que les données d'entraînement.\n",
    "                d_test[X_columns] = scaler.transform(d_test[X_columns])\n",
    "\n",
    "                # Création d'une nouvelle liste new_y en associant chaque valeur de d_test[y_column]\n",
    "                # aux valeurs correspondantes dans le dictionnaire dict_2classes.\n",
    "                # Cela permet de mapper les étiquettes d'origine aux classes utilisées pour l'évaluation.\n",
    "                new_y = [dict_2classes[k] for k in d_test[y_column]]\n",
    "\n",
    "                # Remplacement de la colonne de la variable cible y_column dans d_test par les nouvelles étiquettes new_y.\n",
    "                d_test[y_column] = new_y\n",
    "\n",
    "                # Extension de la liste y_test avec les valeurs de la variable cible transformée pour l'ensemble de test actuel.\n",
    "                y_test += list(d_test[y_column].values)\n",
    "\n",
    "                # Itération sur chaque modèle contenu dans la liste ML_models.\n",
    "                for i in range(len(ML_models)):\n",
    "                        # Sélection du modèle actuel à évaluer.\n",
    "                        model = ML_models[i]\n",
    "\n",
    "                        # Utilisation du modèle pour faire des prédictions sur l'ensemble de test actuel.\n",
    "                        y_pred = list(model.predict(d_test[X_columns]))\n",
    "                        \n",
    "                        # Stockage des prédictions du modèle actuel dans la liste correspondante du dictionnaire preds.\n",
    "                        preds[i] = preds[i] + y_pred\n",
    "\n",
    "        # Initialize the list of true labels\n",
    "        for k,v in preds.items():\n",
    "                # Save model\n",
    "                joblib.dump(ML_models[k], f\".\\Models\\model_{ML_neams[k]}_{dict_item['type']}.joblib\")\n",
    "\n",
    "                y_pred = v\n",
    "                print(f\"##### {ML_neams[k]} {dict_item['type']} (2 classes) #####\")\n",
    "                print('accuracy_score: ', accuracy_score(y_pred, y_test))\n",
    "                print('recall_score: ', recall_score(y_pred, y_test, average='macro'))\n",
    "                print('precision_score: ', precision_score(y_pred, y_test, average='macro'))\n",
    "                print('f1_score: ', f1_score(y_pred, y_test, average='macro'))\n",
    "                print()\n",
    "                print()\n",
    "                print()\n"
   ]
  },
  {
   "cell_type": "markdown",
   "id": "89e02a88",
   "metadata": {},
   "source": [
    "# Test"
   ]
  },
  {
   "cell_type": "code",
   "execution_count": 231,
   "id": "78f35629",
   "metadata": {
    "notebookRunGroups": {
     "groupValue": ""
    }
   },
   "outputs": [
    {
     "name": "stdout",
     "output_type": "stream",
     "text": [
      "<class 'sklearn.tree._classes.DecisionTreeClassifier'>\n",
      "<class 'sklearn.tree._classes.DecisionTreeClassifier'>\n",
      "<class 'sklearn.tree._classes.DecisionTreeClassifier'>\n"
     ]
    },
    {
     "name": "stderr",
     "output_type": "stream",
     "text": [
      "  0%|          | 0/8 [00:00<?, ?it/s]"
     ]
    },
    {
     "name": "stderr",
     "output_type": "stream",
     "text": [
      "100%|██████████| 8/8 [00:44<00:00,  5.53s/it]\n"
     ]
    }
   ],
   "source": [
    "ML_models = [\n",
    "        DecisionTreeClassifier(),\n",
    "        # RandomForestClassifier(n_jobs=-1),\n",
    "        # GradientBoostingClassifier(),\n",
    "        # LogisticRegression(n_jobs=-1),\n",
    "]\n",
    "\n",
    "ML_neams = [\n",
    "        \"DecisionTreeClassifier\",\n",
    "        # \"RandomForestClassifier\",\n",
    "        # \"GradientBoostingClassifier\",\n",
    "        # \"LogisticRegression\",\n",
    "]\n",
    "\n",
    "# Load last model\n",
    "# modelName = \"DecisionTreeClassifier\"\n",
    "# loaded_model = joblib.load(f\".\\Models\\model_{modelName}_DDoS.joblib\")\n",
    "# ML_models.append(loaded_model)\n",
    "# ML_neams.append(modelName)\n",
    "\n",
    "# For each dataset\n",
    "for train_set in tqdm(training_sets):\n",
    "    \n",
    "    # Load the dataset in memory\n",
    "    d = pd.read_csv(DATASET_DIRECTORY + train_set)\n",
    "\n",
    "    # Normalize the data\n",
    "    d[X_columns] = scaler.transform(d[X_columns])\n",
    "\n",
    "    # Update the labels of the target variable\n",
    "    new_y = [dict_2classes[k] for k in d[y_column]]\n",
    "    d[y_column] = new_y\n",
    "    \n",
    "    # For each model\n",
    "    for model in (ML_models):\n",
    "\n",
    "        # Train the model\n",
    "        model.fit(d[X_columns], d[y_column])\n",
    "\n",
    "    # Delete the dataset from memory\n",
    "    del d"
   ]
  },
  {
   "cell_type": "code",
   "execution_count": 232,
   "id": "32a21f58",
   "metadata": {
    "notebookRunGroups": {
     "groupValue": ""
    }
   },
   "outputs": [
    {
     "name": "stderr",
     "output_type": "stream",
     "text": [
      "100%|██████████| 2/2 [00:03<00:00,  1.80s/it]\n"
     ]
    }
   ],
   "source": [
    "# Initialisation d'une liste pour stocker les vraies valeurs de la variable cible (classe) pour l'ensemble de test.\n",
    "y_test = []\n",
    "\n",
    "# Initialisation d'un dictionnaire pour stocker les prédictions de chaque modèle.\n",
    "# Les clés du dictionnaire sont les indices des modèles.\n",
    "preds = {i: [] for i in range(len(ML_models))}\n",
    "\n",
    "# Itération sur chaque ensemble de test contenu dans la liste test_sets.\n",
    "for test_set in tqdm(test_sets):\n",
    "    # Chargement d'un fichier CSV correspondant à l'ensemble de test actuel dans un DataFrame pandas d_test.\n",
    "    d_test = pd.read_csv(DATASET_DIRECTORY + test_set)\n",
    "    \n",
    "    # Mise à l'échelle des colonnes d'entités de d_test à l'aide d'un objet scaler.\n",
    "    # Cela permet de mettre à l'échelle les données de test de la même manière que les données d'entraînement.\n",
    "    d_test[X_columns] = scaler.transform(d_test[X_columns])\n",
    "\n",
    "    # Création d'une nouvelle liste new_y en associant chaque valeur de d_test[y_column]\n",
    "    # aux valeurs correspondantes dans le dictionnaire dict_2classes.\n",
    "    # Cela permet de mapper les étiquettes d'origine aux classes utilisées pour l'évaluation.\n",
    "    new_y = [dict_2classes[k] for k in d_test[y_column]]\n",
    "    \n",
    "    # Remplacement de la colonne de la variable cible y_column dans d_test par les nouvelles étiquettes new_y.\n",
    "    d_test[y_column] = new_y\n",
    "    \n",
    "    # Extension de la liste y_test avec les valeurs de la variable cible transformée pour l'ensemble de test actuel.\n",
    "    y_test += list(d_test[y_column].values)\n",
    "    \n",
    "    # Itération sur chaque modèle contenu dans la liste ML_models.\n",
    "    for i in range(len(ML_models)):\n",
    "        # Sélection du modèle actuel à évaluer.\n",
    "        model = ML_models[i]\n",
    "\n",
    "        # Utilisation du modèle pour faire des prédictions sur l'ensemble de test actuel.\n",
    "        y_pred = list(model.predict(d_test[X_columns]))\n",
    "        \n",
    "        # Stockage des prédictions du modèle actuel dans la liste correspondante du dictionnaire preds.\n",
    "        preds[i] = preds[i] + y_pred\n"
   ]
  },
  {
   "cell_type": "code",
   "execution_count": 233,
   "id": "65d2bbbf",
   "metadata": {
    "notebookRunGroups": {
     "groupValue": ""
    }
   },
   "outputs": [
    {
     "name": "stdout",
     "output_type": "stream",
     "text": [
      "##### DecisionTreeClassifier (2 classes) #####\n",
      "accuracy_score:  0.9996729564525692\n",
      "recall_score:  0.9995829511618257\n",
      "precision_score:  0.9995902588168041\n",
      "f1_score:  0.9995866049119663\n",
      "\n",
      "\n",
      "\n",
      "##### DecisionTreeClassifier (2 classes) #####\n",
      "accuracy_score:  0.999656076785605\n",
      "recall_score:  0.9995324226102099\n",
      "precision_score:  0.9995981775667151\n",
      "f1_score:  0.9995652938243755\n",
      "\n",
      "\n",
      "\n"
     ]
    }
   ],
   "source": [
    "# Initialize the list of true labels\n",
    "for k,v in preds.items():\n",
    "    # Save model\n",
    "    joblib.dump(ML_models[k], f\".\\Models\\model_{ML_neams[k]}_DDoS.joblib\")\n",
    "\n",
    "    y_pred = v\n",
    "    print(f\"##### {ML_neams[k]} (2 classes) #####\")\n",
    "    print('accuracy_score: ', accuracy_score(y_pred, y_test))\n",
    "    print('recall_score: ', recall_score(y_pred, y_test, average='macro'))\n",
    "    print('precision_score: ', precision_score(y_pred, y_test, average='macro'))\n",
    "    print('f1_score: ', f1_score(y_pred, y_test, average='macro'))\n",
    "    print()\n",
    "    print()\n",
    "    print()"
   ]
  },
  {
   "cell_type": "markdown",
   "id": "1b1808fe",
   "metadata": {},
   "source": [
    "# Results for classification DDoS"
   ]
  },
  {
   "cell_type": "markdown",
   "id": "bcfcfa83",
   "metadata": {},
   "source": [
    "##### DecisionTreeClassifier (2 classes) #####\n",
    "- accuracy_score:  0.999656076785605\n",
    "- recall_score:  0.9995397188023061\n",
    "- precision_score:  0.9995908637100563\n",
    "- f1_score:  0.9995652874666482\n",
    "\n",
    "##### RandomForestClassifier (2 classes) #####\n",
    "- accuracy_score:  0.9995421390335969\n",
    "- recall_score:  0.9993835583640872\n",
    "- precision_score:  0.9994590309032679\n",
    "- f1_score:  0.999421286377896\n",
    "\n",
    "##### GradientBoostingClassifier (2 classes) #####\n",
    "- accuracy_score:  0.9996138776181946\n",
    "- recall_score:  0.9995253081576231\n",
    "- precision_score:  0.9994985147827335\n",
    "- f1_score:  0.9995119104302792\n",
    "\n",
    "##### LogisticRegression (2 classes) #####\n",
    "- accuracy_score:  0.8466566654639904\n",
    "- recall_score:  0.8835917015235932\n",
    "- precision_score:  0.7278965042927341\n",
    "- f1_score:  0.7636924766683586"
   ]
  },
  {
   "cell_type": "markdown",
   "id": "9e515a46",
   "metadata": {},
   "source": [
    "# Memory cleanning "
   ]
  },
  {
   "cell_type": "code",
   "execution_count": 52,
   "id": "919c026d",
   "metadata": {
    "notebookRunGroups": {
     "groupValue": "2"
    }
   },
   "outputs": [
    {
     "data": {
      "text/plain": [
       "0"
      ]
     },
     "execution_count": 52,
     "metadata": {},
     "output_type": "execute_result"
    }
   ],
   "source": [
    "import gc\n",
    "gc.collect()"
   ]
  }
 ],
 "metadata": {
  "kernelspec": {
   "display_name": "Python 3 (ipykernel)",
   "language": "python",
   "name": "python3"
  },
  "language_info": {
   "codemirror_mode": {
    "name": "ipython",
    "version": 3
   },
   "file_extension": ".py",
   "mimetype": "text/x-python",
   "name": "python",
   "nbconvert_exporter": "python",
   "pygments_lexer": "ipython3",
   "version": "3.9.12"
  }
 },
 "nbformat": 4,
 "nbformat_minor": 5
}
